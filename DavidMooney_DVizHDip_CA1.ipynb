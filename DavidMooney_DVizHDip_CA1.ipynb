{
 "cells": [
  {
   "cell_type": "code",
   "execution_count": 1,
   "id": "1936f60a",
   "metadata": {},
   "outputs": [],
   "source": [
    "#Loading Dataset\n",
    "import pandas as pd\n",
    "import numpy as np"
   ]
  },
  {
   "cell_type": "code",
   "execution_count": 2,
   "id": "892597f3",
   "metadata": {},
   "outputs": [],
   "source": [
    "#loading CSV file\n",
    "VG_data=pd.read_csv(\"vgsales.csv\")"
   ]
  },
  {
   "cell_type": "code",
   "execution_count": 3,
   "id": "eba820fa",
   "metadata": {
    "scrolled": true
   },
   "outputs": [
    {
     "data": {
      "text/html": [
       "<div>\n",
       "<style scoped>\n",
       "    .dataframe tbody tr th:only-of-type {\n",
       "        vertical-align: middle;\n",
       "    }\n",
       "\n",
       "    .dataframe tbody tr th {\n",
       "        vertical-align: top;\n",
       "    }\n",
       "\n",
       "    .dataframe thead th {\n",
       "        text-align: right;\n",
       "    }\n",
       "</style>\n",
       "<table border=\"1\" class=\"dataframe\">\n",
       "  <thead>\n",
       "    <tr style=\"text-align: right;\">\n",
       "      <th></th>\n",
       "      <th>Name</th>\n",
       "      <th>Platform</th>\n",
       "      <th>Year_of_Release</th>\n",
       "      <th>Genre</th>\n",
       "      <th>Publisher</th>\n",
       "      <th>NA_Sales</th>\n",
       "      <th>EU_Sales</th>\n",
       "      <th>JP_Sales</th>\n",
       "      <th>Other_Sales</th>\n",
       "      <th>Global_Sales</th>\n",
       "      <th>Critic_Score</th>\n",
       "      <th>Critic_Count</th>\n",
       "      <th>User_Score</th>\n",
       "      <th>User_Count</th>\n",
       "      <th>Developer</th>\n",
       "      <th>Rating</th>\n",
       "    </tr>\n",
       "  </thead>\n",
       "  <tbody>\n",
       "    <tr>\n",
       "      <th>0</th>\n",
       "      <td>Wii Sports</td>\n",
       "      <td>Wii</td>\n",
       "      <td>2006.0</td>\n",
       "      <td>Sports</td>\n",
       "      <td>Nintendo</td>\n",
       "      <td>41.36</td>\n",
       "      <td>28.96</td>\n",
       "      <td>3.77</td>\n",
       "      <td>8.45</td>\n",
       "      <td>82.53</td>\n",
       "      <td>76.0</td>\n",
       "      <td>51.0</td>\n",
       "      <td>8</td>\n",
       "      <td>322.0</td>\n",
       "      <td>Nintendo</td>\n",
       "      <td>E</td>\n",
       "    </tr>\n",
       "    <tr>\n",
       "      <th>1</th>\n",
       "      <td>Super Mario Bros.</td>\n",
       "      <td>NES</td>\n",
       "      <td>1985.0</td>\n",
       "      <td>Platform</td>\n",
       "      <td>Nintendo</td>\n",
       "      <td>29.08</td>\n",
       "      <td>3.58</td>\n",
       "      <td>6.81</td>\n",
       "      <td>0.77</td>\n",
       "      <td>40.24</td>\n",
       "      <td>NaN</td>\n",
       "      <td>NaN</td>\n",
       "      <td>NaN</td>\n",
       "      <td>NaN</td>\n",
       "      <td>NaN</td>\n",
       "      <td>NaN</td>\n",
       "    </tr>\n",
       "    <tr>\n",
       "      <th>2</th>\n",
       "      <td>Mario Kart Wii</td>\n",
       "      <td>Wii</td>\n",
       "      <td>2008.0</td>\n",
       "      <td>Racing</td>\n",
       "      <td>Nintendo</td>\n",
       "      <td>15.68</td>\n",
       "      <td>12.76</td>\n",
       "      <td>3.79</td>\n",
       "      <td>3.29</td>\n",
       "      <td>35.52</td>\n",
       "      <td>82.0</td>\n",
       "      <td>73.0</td>\n",
       "      <td>8.3</td>\n",
       "      <td>709.0</td>\n",
       "      <td>Nintendo</td>\n",
       "      <td>E</td>\n",
       "    </tr>\n",
       "    <tr>\n",
       "      <th>3</th>\n",
       "      <td>Wii Sports Resort</td>\n",
       "      <td>Wii</td>\n",
       "      <td>2009.0</td>\n",
       "      <td>Sports</td>\n",
       "      <td>Nintendo</td>\n",
       "      <td>15.61</td>\n",
       "      <td>10.93</td>\n",
       "      <td>3.28</td>\n",
       "      <td>2.95</td>\n",
       "      <td>32.77</td>\n",
       "      <td>80.0</td>\n",
       "      <td>73.0</td>\n",
       "      <td>8</td>\n",
       "      <td>192.0</td>\n",
       "      <td>Nintendo</td>\n",
       "      <td>E</td>\n",
       "    </tr>\n",
       "    <tr>\n",
       "      <th>4</th>\n",
       "      <td>Pokemon Red/Pokemon Blue</td>\n",
       "      <td>GB</td>\n",
       "      <td>1996.0</td>\n",
       "      <td>Role-Playing</td>\n",
       "      <td>Nintendo</td>\n",
       "      <td>11.27</td>\n",
       "      <td>8.89</td>\n",
       "      <td>10.22</td>\n",
       "      <td>1.00</td>\n",
       "      <td>31.37</td>\n",
       "      <td>NaN</td>\n",
       "      <td>NaN</td>\n",
       "      <td>NaN</td>\n",
       "      <td>NaN</td>\n",
       "      <td>NaN</td>\n",
       "      <td>NaN</td>\n",
       "    </tr>\n",
       "  </tbody>\n",
       "</table>\n",
       "</div>"
      ],
      "text/plain": [
       "                       Name Platform  Year_of_Release         Genre Publisher  \\\n",
       "0                Wii Sports      Wii           2006.0        Sports  Nintendo   \n",
       "1         Super Mario Bros.      NES           1985.0      Platform  Nintendo   \n",
       "2            Mario Kart Wii      Wii           2008.0        Racing  Nintendo   \n",
       "3         Wii Sports Resort      Wii           2009.0        Sports  Nintendo   \n",
       "4  Pokemon Red/Pokemon Blue       GB           1996.0  Role-Playing  Nintendo   \n",
       "\n",
       "   NA_Sales  EU_Sales  JP_Sales  Other_Sales  Global_Sales  Critic_Score  \\\n",
       "0     41.36     28.96      3.77         8.45         82.53          76.0   \n",
       "1     29.08      3.58      6.81         0.77         40.24           NaN   \n",
       "2     15.68     12.76      3.79         3.29         35.52          82.0   \n",
       "3     15.61     10.93      3.28         2.95         32.77          80.0   \n",
       "4     11.27      8.89     10.22         1.00         31.37           NaN   \n",
       "\n",
       "   Critic_Count User_Score  User_Count Developer Rating  \n",
       "0          51.0          8       322.0  Nintendo      E  \n",
       "1           NaN        NaN         NaN       NaN    NaN  \n",
       "2          73.0        8.3       709.0  Nintendo      E  \n",
       "3          73.0          8       192.0  Nintendo      E  \n",
       "4           NaN        NaN         NaN       NaN    NaN  "
      ]
     },
     "execution_count": 3,
     "metadata": {},
     "output_type": "execute_result"
    }
   ],
   "source": [
    "VG_data.head() "
   ]
  },
  {
   "cell_type": "markdown",
   "id": "98bb6e38",
   "metadata": {},
   "source": [
    "# Exploring the Dataset\n",
    "\n",
    "To begin I look at the scope of the brief for the assignment. This is shape how I will deal with the missing data. The questions are as follows:\n",
    "\n",
    "-What are the top 5 games by global sales?  \n",
    "-Is there a correlation between the “na_sales” and “jp_sales” for the years 2010-2014?  \n",
    "-What is the distribution of the most popular 4 game genres?  \n",
    "-Do older games (2005 and earlier) have a higher MEAN “eu_sales” than newer games (after 2005)?  \n",
    "-What are the 3 most common “developer” in the dataset?  \n",
    "\n",
    "#### My question:\n",
    "\n",
    "-Compare the global sales in relation to the user score for PS2 platform?\n"
   ]
  },
  {
   "cell_type": "code",
   "execution_count": 4,
   "id": "0f127ea3",
   "metadata": {},
   "outputs": [
    {
     "data": {
      "text/plain": [
       "(16719, 16)"
      ]
     },
     "execution_count": 4,
     "metadata": {},
     "output_type": "execute_result"
    }
   ],
   "source": [
    "VG_data.shape"
   ]
  },
  {
   "cell_type": "markdown",
   "id": "c52d09d8",
   "metadata": {},
   "source": [
    "I can see from the that only feature, with substantial missing values, that is involved in the assignment is the \"Developer\" feature. I think that the \"User Score\" feature is a very important metric for understanding how the consumers are scoring these games. Subsequently, I have based my question around this metric. \n",
    "\n",
    "Looking at the null values in the dataset I can see there some features with missing data. Some have very little missing values compared with the size of the dataset and some have very large missing values.\n",
    "I can also see see from looking at the info of the dataset that the User_score feature is being shown as categorical but it is in fact numerical which indicates several missing values. \n",
    "\n",
    "How I will handle each feature will differ from one another. I think imputation will not be suitable as all the name values are unique. Similarly In the \"Year_of_Release\" and \"Publisher\" features, using one the various froms of imputation (mean, median, foward fill , backward fill) will not be suitable as filling the most popular answer wouldn't be an accuarte representation of the data. As a result of this analysis I will more then likely drop these the na values from these features as they only a very small proportion (2% combined) of the overall dataset. However, first I will take a look at the 6 features that conatain the most null values. "
   ]
  },
  {
   "cell_type": "code",
   "execution_count": 5,
   "id": "79ef0574",
   "metadata": {
    "scrolled": true
   },
   "outputs": [
    {
     "data": {
      "text/plain": [
       "Name                  2\n",
       "Platform              0\n",
       "Year_of_Release     269\n",
       "Genre                 2\n",
       "Publisher            54\n",
       "NA_Sales              0\n",
       "EU_Sales              0\n",
       "JP_Sales              0\n",
       "Other_Sales           0\n",
       "Global_Sales          0\n",
       "Critic_Score       8582\n",
       "Critic_Count       8582\n",
       "User_Score         6704\n",
       "User_Count         9129\n",
       "Developer          6623\n",
       "Rating             6769\n",
       "dtype: int64"
      ]
     },
     "execution_count": 5,
     "metadata": {},
     "output_type": "execute_result"
    }
   ],
   "source": [
    "VG_data.isnull().sum()"
   ]
  },
  {
   "cell_type": "code",
   "execution_count": 6,
   "id": "ff13a1c6",
   "metadata": {
    "scrolled": true
   },
   "outputs": [
    {
     "name": "stdout",
     "output_type": "stream",
     "text": [
      "<class 'pandas.core.frame.DataFrame'>\n",
      "RangeIndex: 16719 entries, 0 to 16718\n",
      "Data columns (total 16 columns):\n",
      " #   Column           Non-Null Count  Dtype  \n",
      "---  ------           --------------  -----  \n",
      " 0   Name             16717 non-null  object \n",
      " 1   Platform         16719 non-null  object \n",
      " 2   Year_of_Release  16450 non-null  float64\n",
      " 3   Genre            16717 non-null  object \n",
      " 4   Publisher        16665 non-null  object \n",
      " 5   NA_Sales         16719 non-null  float64\n",
      " 6   EU_Sales         16719 non-null  float64\n",
      " 7   JP_Sales         16719 non-null  float64\n",
      " 8   Other_Sales      16719 non-null  float64\n",
      " 9   Global_Sales     16719 non-null  float64\n",
      " 10  Critic_Score     8137 non-null   float64\n",
      " 11  Critic_Count     8137 non-null   float64\n",
      " 12  User_Score       10015 non-null  object \n",
      " 13  User_Count       7590 non-null   float64\n",
      " 14  Developer        10096 non-null  object \n",
      " 15  Rating           9950 non-null   object \n",
      "dtypes: float64(9), object(7)\n",
      "memory usage: 2.0+ MB\n"
     ]
    }
   ],
   "source": [
    "VG_data.info()"
   ]
  },
  {
   "cell_type": "code",
   "execution_count": 7,
   "id": "6dd1ca79",
   "metadata": {},
   "outputs": [
    {
     "data": {
      "text/html": [
       "<div>\n",
       "<style scoped>\n",
       "    .dataframe tbody tr th:only-of-type {\n",
       "        vertical-align: middle;\n",
       "    }\n",
       "\n",
       "    .dataframe tbody tr th {\n",
       "        vertical-align: top;\n",
       "    }\n",
       "\n",
       "    .dataframe thead th {\n",
       "        text-align: right;\n",
       "    }\n",
       "</style>\n",
       "<table border=\"1\" class=\"dataframe\">\n",
       "  <thead>\n",
       "    <tr style=\"text-align: right;\">\n",
       "      <th></th>\n",
       "      <th>Year_of_Release</th>\n",
       "      <th>NA_Sales</th>\n",
       "      <th>EU_Sales</th>\n",
       "      <th>JP_Sales</th>\n",
       "      <th>Other_Sales</th>\n",
       "      <th>Global_Sales</th>\n",
       "      <th>Critic_Score</th>\n",
       "      <th>Critic_Count</th>\n",
       "      <th>User_Count</th>\n",
       "    </tr>\n",
       "  </thead>\n",
       "  <tbody>\n",
       "    <tr>\n",
       "      <th>count</th>\n",
       "      <td>16450.000000</td>\n",
       "      <td>16719.000000</td>\n",
       "      <td>16719.000000</td>\n",
       "      <td>16719.000000</td>\n",
       "      <td>16719.000000</td>\n",
       "      <td>16719.000000</td>\n",
       "      <td>8137.000000</td>\n",
       "      <td>8137.000000</td>\n",
       "      <td>7590.000000</td>\n",
       "    </tr>\n",
       "    <tr>\n",
       "      <th>mean</th>\n",
       "      <td>2006.487356</td>\n",
       "      <td>0.263330</td>\n",
       "      <td>0.145025</td>\n",
       "      <td>0.077602</td>\n",
       "      <td>0.047332</td>\n",
       "      <td>0.533543</td>\n",
       "      <td>68.967679</td>\n",
       "      <td>26.360821</td>\n",
       "      <td>162.229908</td>\n",
       "    </tr>\n",
       "    <tr>\n",
       "      <th>std</th>\n",
       "      <td>5.878995</td>\n",
       "      <td>0.813514</td>\n",
       "      <td>0.503283</td>\n",
       "      <td>0.308818</td>\n",
       "      <td>0.186710</td>\n",
       "      <td>1.547935</td>\n",
       "      <td>13.938165</td>\n",
       "      <td>18.980495</td>\n",
       "      <td>561.282326</td>\n",
       "    </tr>\n",
       "    <tr>\n",
       "      <th>min</th>\n",
       "      <td>1980.000000</td>\n",
       "      <td>0.000000</td>\n",
       "      <td>0.000000</td>\n",
       "      <td>0.000000</td>\n",
       "      <td>0.000000</td>\n",
       "      <td>0.010000</td>\n",
       "      <td>13.000000</td>\n",
       "      <td>3.000000</td>\n",
       "      <td>4.000000</td>\n",
       "    </tr>\n",
       "    <tr>\n",
       "      <th>25%</th>\n",
       "      <td>2003.000000</td>\n",
       "      <td>0.000000</td>\n",
       "      <td>0.000000</td>\n",
       "      <td>0.000000</td>\n",
       "      <td>0.000000</td>\n",
       "      <td>0.060000</td>\n",
       "      <td>60.000000</td>\n",
       "      <td>12.000000</td>\n",
       "      <td>10.000000</td>\n",
       "    </tr>\n",
       "    <tr>\n",
       "      <th>50%</th>\n",
       "      <td>2007.000000</td>\n",
       "      <td>0.080000</td>\n",
       "      <td>0.020000</td>\n",
       "      <td>0.000000</td>\n",
       "      <td>0.010000</td>\n",
       "      <td>0.170000</td>\n",
       "      <td>71.000000</td>\n",
       "      <td>21.000000</td>\n",
       "      <td>24.000000</td>\n",
       "    </tr>\n",
       "    <tr>\n",
       "      <th>75%</th>\n",
       "      <td>2010.000000</td>\n",
       "      <td>0.240000</td>\n",
       "      <td>0.110000</td>\n",
       "      <td>0.040000</td>\n",
       "      <td>0.030000</td>\n",
       "      <td>0.470000</td>\n",
       "      <td>79.000000</td>\n",
       "      <td>36.000000</td>\n",
       "      <td>81.000000</td>\n",
       "    </tr>\n",
       "    <tr>\n",
       "      <th>max</th>\n",
       "      <td>2020.000000</td>\n",
       "      <td>41.360000</td>\n",
       "      <td>28.960000</td>\n",
       "      <td>10.220000</td>\n",
       "      <td>10.570000</td>\n",
       "      <td>82.530000</td>\n",
       "      <td>98.000000</td>\n",
       "      <td>113.000000</td>\n",
       "      <td>10665.000000</td>\n",
       "    </tr>\n",
       "  </tbody>\n",
       "</table>\n",
       "</div>"
      ],
      "text/plain": [
       "       Year_of_Release      NA_Sales      EU_Sales      JP_Sales  \\\n",
       "count     16450.000000  16719.000000  16719.000000  16719.000000   \n",
       "mean       2006.487356      0.263330      0.145025      0.077602   \n",
       "std           5.878995      0.813514      0.503283      0.308818   \n",
       "min        1980.000000      0.000000      0.000000      0.000000   \n",
       "25%        2003.000000      0.000000      0.000000      0.000000   \n",
       "50%        2007.000000      0.080000      0.020000      0.000000   \n",
       "75%        2010.000000      0.240000      0.110000      0.040000   \n",
       "max        2020.000000     41.360000     28.960000     10.220000   \n",
       "\n",
       "        Other_Sales  Global_Sales  Critic_Score  Critic_Count    User_Count  \n",
       "count  16719.000000  16719.000000   8137.000000   8137.000000   7590.000000  \n",
       "mean       0.047332      0.533543     68.967679     26.360821    162.229908  \n",
       "std        0.186710      1.547935     13.938165     18.980495    561.282326  \n",
       "min        0.000000      0.010000     13.000000      3.000000      4.000000  \n",
       "25%        0.000000      0.060000     60.000000     12.000000     10.000000  \n",
       "50%        0.010000      0.170000     71.000000     21.000000     24.000000  \n",
       "75%        0.030000      0.470000     79.000000     36.000000     81.000000  \n",
       "max       10.570000     82.530000     98.000000    113.000000  10665.000000  "
      ]
     },
     "execution_count": 7,
     "metadata": {},
     "output_type": "execute_result"
    }
   ],
   "source": [
    "VG_data.describe()"
   ]
  },
  {
   "cell_type": "code",
   "execution_count": 8,
   "id": "be7d6096",
   "metadata": {},
   "outputs": [],
   "source": [
    "#VG_data[\"Name\"].unique().tolist()"
   ]
  },
  {
   "cell_type": "code",
   "execution_count": 9,
   "id": "1fbda78f",
   "metadata": {},
   "outputs": [],
   "source": [
    "VG_data_1 = pd.DataFrame(VG_data)"
   ]
  },
  {
   "cell_type": "markdown",
   "id": "8e1e404d",
   "metadata": {},
   "source": [
    "# Exploritory Analysis continued\n",
    "\n",
    "I can see from looking at the info method, the \"User_score\" feature is being shown as categorical but it is in fact numerical which indicates several missing values (confirmed when looking non nill values). \n",
    "\n",
    "Critic_Score,Critic_Count,User_Score,User_Count,Developer,Rating have huge numbers of missing values so these will be alot trickier to navigate. Based on the brief, I can see that the only feature I need from these is the Developer feature. \n",
    " \n",
    "The Critic/User scores and counts etc., could be a valubale feature in terms of predciting business strategies as they provide direct feedback on each game but I feel that imputing them could create a false narrative and deter from implementing an effective strategy. An effective strategy based around user and critic scores has to come from solid data, not imputed data. However, as the As Critic_Score,Critic_Count,User_Count have over 50% of the data missing I will drop these columns from the dataset. From reading the data dictionary, I can see that the user count feature displays how many users have rated the game. This is an imporatnt metric as it directly impacts the user score, assuming the overall score is an average of the scores of everybody that scored it. However, I continued with deleting it because it would be impossible to impute this data. \n",
    "\n",
    "After some more in depth examination, I can see that the User_Score, Rating and Developer columns follow a simialar path in terms of sharing nan values. This is true in 6769 rows. This number equates to total the number of nan values in the rating feature. To retain as much data as I can, I dropped all the rows that the three features share nan values.\n",
    "\n",
    "Looking at the description of the numerical data (using .describe() method) I conclude that the data is slightly skewed in all of the sales features. This indicates the presence of outliers which I will need to deal with at a later point.  "
   ]
  },
  {
   "cell_type": "markdown",
   "id": "139b7b92",
   "metadata": {},
   "source": [
    "## Dropping Columns over 50% of the dataset"
   ]
  },
  {
   "cell_type": "markdown",
   "id": "cef88467",
   "metadata": {},
   "source": [
    "To begin, I drop all the columns that have null values greater than 50% of the dataset. "
   ]
  },
  {
   "cell_type": "code",
   "execution_count": 10,
   "id": "edcf13a2",
   "metadata": {},
   "outputs": [],
   "source": [
    "#stroing cols over 50% in a variable\n",
    "cols_over_half = [x for x in VG_data_1 if VG_data_1[x].isnull().sum() > int(len(VG_data_1)/2)]"
   ]
  },
  {
   "cell_type": "code",
   "execution_count": 11,
   "id": "cad29ef5",
   "metadata": {},
   "outputs": [],
   "source": [
    "#Dropping cols over 50%\n",
    "VG_data_1.drop(cols_over_half, axis=1, inplace=True)"
   ]
  },
  {
   "cell_type": "code",
   "execution_count": 12,
   "id": "10aa516b",
   "metadata": {
    "scrolled": true
   },
   "outputs": [
    {
     "name": "stdout",
     "output_type": "stream",
     "text": [
      "<class 'pandas.core.frame.DataFrame'>\n",
      "RangeIndex: 16719 entries, 0 to 16718\n",
      "Data columns (total 13 columns):\n",
      " #   Column           Non-Null Count  Dtype  \n",
      "---  ------           --------------  -----  \n",
      " 0   Name             16717 non-null  object \n",
      " 1   Platform         16719 non-null  object \n",
      " 2   Year_of_Release  16450 non-null  float64\n",
      " 3   Genre            16717 non-null  object \n",
      " 4   Publisher        16665 non-null  object \n",
      " 5   NA_Sales         16719 non-null  float64\n",
      " 6   EU_Sales         16719 non-null  float64\n",
      " 7   JP_Sales         16719 non-null  float64\n",
      " 8   Other_Sales      16719 non-null  float64\n",
      " 9   Global_Sales     16719 non-null  float64\n",
      " 10  User_Score       10015 non-null  object \n",
      " 11  Developer        10096 non-null  object \n",
      " 12  Rating           9950 non-null   object \n",
      "dtypes: float64(6), object(7)\n",
      "memory usage: 1.7+ MB\n"
     ]
    }
   ],
   "source": [
    "VG_data_1.info()"
   ]
  },
  {
   "cell_type": "markdown",
   "id": "25285c5f",
   "metadata": {},
   "source": [
    "## Locating and dropping columns with the most Null Values"
   ]
  },
  {
   "cell_type": "markdown",
   "id": "2e02d571",
   "metadata": {},
   "source": [
    "As discussed above, \"User_Score\", \"Developer\" and \"Rating\" features share 6769 rows of nan values. It is important to drop all the rows where the nan values are shared between the three. To achive this, I created a new columns called \"NULL VALUES\". I used the np.where function from the numpy library to find all the rows that have Nan values and place a 1 in the NULL VALUES column where this is true. The remaining rows were filled with a zero."
   ]
  },
  {
   "cell_type": "code",
   "execution_count": 13,
   "id": "672ef446",
   "metadata": {},
   "outputs": [],
   "source": [
    "#making a new binary column that detects the presence of null values\n",
    "for null in VG_data_1:\n",
    "    nan_values = np.where(VG_data_1[null].isna())[0]\n",
    "    VG_data_1[\"NULL VALUES\"] = 0\n",
    "    VG_data_1.loc[nan_values, \"NULL VALUES\"]=1"
   ]
  },
  {
   "cell_type": "code",
   "execution_count": 14,
   "id": "3427ebfa",
   "metadata": {
    "scrolled": true
   },
   "outputs": [
    {
     "data": {
      "text/html": [
       "<div>\n",
       "<style scoped>\n",
       "    .dataframe tbody tr th:only-of-type {\n",
       "        vertical-align: middle;\n",
       "    }\n",
       "\n",
       "    .dataframe tbody tr th {\n",
       "        vertical-align: top;\n",
       "    }\n",
       "\n",
       "    .dataframe thead th {\n",
       "        text-align: right;\n",
       "    }\n",
       "</style>\n",
       "<table border=\"1\" class=\"dataframe\">\n",
       "  <thead>\n",
       "    <tr style=\"text-align: right;\">\n",
       "      <th></th>\n",
       "      <th>Name</th>\n",
       "      <th>Platform</th>\n",
       "      <th>Year_of_Release</th>\n",
       "      <th>Genre</th>\n",
       "      <th>Publisher</th>\n",
       "      <th>NA_Sales</th>\n",
       "      <th>EU_Sales</th>\n",
       "      <th>JP_Sales</th>\n",
       "      <th>Other_Sales</th>\n",
       "      <th>Global_Sales</th>\n",
       "      <th>User_Score</th>\n",
       "      <th>Developer</th>\n",
       "      <th>Rating</th>\n",
       "      <th>NULL VALUES</th>\n",
       "    </tr>\n",
       "  </thead>\n",
       "  <tbody>\n",
       "    <tr>\n",
       "      <th>0</th>\n",
       "      <td>Wii Sports</td>\n",
       "      <td>Wii</td>\n",
       "      <td>2006.0</td>\n",
       "      <td>Sports</td>\n",
       "      <td>Nintendo</td>\n",
       "      <td>41.36</td>\n",
       "      <td>28.96</td>\n",
       "      <td>3.77</td>\n",
       "      <td>8.45</td>\n",
       "      <td>82.53</td>\n",
       "      <td>8</td>\n",
       "      <td>Nintendo</td>\n",
       "      <td>E</td>\n",
       "      <td>0</td>\n",
       "    </tr>\n",
       "    <tr>\n",
       "      <th>1</th>\n",
       "      <td>Super Mario Bros.</td>\n",
       "      <td>NES</td>\n",
       "      <td>1985.0</td>\n",
       "      <td>Platform</td>\n",
       "      <td>Nintendo</td>\n",
       "      <td>29.08</td>\n",
       "      <td>3.58</td>\n",
       "      <td>6.81</td>\n",
       "      <td>0.77</td>\n",
       "      <td>40.24</td>\n",
       "      <td>NaN</td>\n",
       "      <td>NaN</td>\n",
       "      <td>NaN</td>\n",
       "      <td>1</td>\n",
       "    </tr>\n",
       "    <tr>\n",
       "      <th>2</th>\n",
       "      <td>Mario Kart Wii</td>\n",
       "      <td>Wii</td>\n",
       "      <td>2008.0</td>\n",
       "      <td>Racing</td>\n",
       "      <td>Nintendo</td>\n",
       "      <td>15.68</td>\n",
       "      <td>12.76</td>\n",
       "      <td>3.79</td>\n",
       "      <td>3.29</td>\n",
       "      <td>35.52</td>\n",
       "      <td>8.3</td>\n",
       "      <td>Nintendo</td>\n",
       "      <td>E</td>\n",
       "      <td>0</td>\n",
       "    </tr>\n",
       "    <tr>\n",
       "      <th>3</th>\n",
       "      <td>Wii Sports Resort</td>\n",
       "      <td>Wii</td>\n",
       "      <td>2009.0</td>\n",
       "      <td>Sports</td>\n",
       "      <td>Nintendo</td>\n",
       "      <td>15.61</td>\n",
       "      <td>10.93</td>\n",
       "      <td>3.28</td>\n",
       "      <td>2.95</td>\n",
       "      <td>32.77</td>\n",
       "      <td>8</td>\n",
       "      <td>Nintendo</td>\n",
       "      <td>E</td>\n",
       "      <td>0</td>\n",
       "    </tr>\n",
       "    <tr>\n",
       "      <th>4</th>\n",
       "      <td>Pokemon Red/Pokemon Blue</td>\n",
       "      <td>GB</td>\n",
       "      <td>1996.0</td>\n",
       "      <td>Role-Playing</td>\n",
       "      <td>Nintendo</td>\n",
       "      <td>11.27</td>\n",
       "      <td>8.89</td>\n",
       "      <td>10.22</td>\n",
       "      <td>1.00</td>\n",
       "      <td>31.37</td>\n",
       "      <td>NaN</td>\n",
       "      <td>NaN</td>\n",
       "      <td>NaN</td>\n",
       "      <td>1</td>\n",
       "    </tr>\n",
       "  </tbody>\n",
       "</table>\n",
       "</div>"
      ],
      "text/plain": [
       "                       Name Platform  Year_of_Release         Genre Publisher  \\\n",
       "0                Wii Sports      Wii           2006.0        Sports  Nintendo   \n",
       "1         Super Mario Bros.      NES           1985.0      Platform  Nintendo   \n",
       "2            Mario Kart Wii      Wii           2008.0        Racing  Nintendo   \n",
       "3         Wii Sports Resort      Wii           2009.0        Sports  Nintendo   \n",
       "4  Pokemon Red/Pokemon Blue       GB           1996.0  Role-Playing  Nintendo   \n",
       "\n",
       "   NA_Sales  EU_Sales  JP_Sales  Other_Sales  Global_Sales User_Score  \\\n",
       "0     41.36     28.96      3.77         8.45         82.53          8   \n",
       "1     29.08      3.58      6.81         0.77         40.24        NaN   \n",
       "2     15.68     12.76      3.79         3.29         35.52        8.3   \n",
       "3     15.61     10.93      3.28         2.95         32.77          8   \n",
       "4     11.27      8.89     10.22         1.00         31.37        NaN   \n",
       "\n",
       "  Developer Rating  NULL VALUES  \n",
       "0  Nintendo      E            0  \n",
       "1       NaN    NaN            1  \n",
       "2  Nintendo      E            0  \n",
       "3  Nintendo      E            0  \n",
       "4       NaN    NaN            1  "
      ]
     },
     "execution_count": 14,
     "metadata": {},
     "output_type": "execute_result"
    }
   ],
   "source": [
    "VG_data_1.head()"
   ]
  },
  {
   "cell_type": "markdown",
   "id": "ba3df8d5",
   "metadata": {},
   "source": [
    "I was then able to filter all the rows from the \"User_Score\",\"Developer\" and \"Rating\" features that share null values. To drop these rows, I saved the index values of each nan row into a list and then dropped based the index. I saved the changes into a new Dataset called VG_data_2"
   ]
  },
  {
   "cell_type": "code",
   "execution_count": 15,
   "id": "e994edd2",
   "metadata": {},
   "outputs": [],
   "source": [
    "NANvals = VG_data_1[[\"User_Score\",\"Developer\",\"Rating\"]][VG_data_1[\"NULL VALUES\"] == 1]"
   ]
  },
  {
   "cell_type": "code",
   "execution_count": 16,
   "id": "42d8ef5a",
   "metadata": {},
   "outputs": [
    {
     "data": {
      "text/plain": [
       "(6769, 3)"
      ]
     },
     "execution_count": 16,
     "metadata": {},
     "output_type": "execute_result"
    }
   ],
   "source": [
    "NANvals.shape"
   ]
  },
  {
   "cell_type": "code",
   "execution_count": 17,
   "id": "800a9796",
   "metadata": {},
   "outputs": [],
   "source": [
    "#rows_with_null = VG_data_1[VG_data_1[\"NULL VALUES\"]  == 1].index.tolist() \n",
    "rows_with_null = NANvals.index.tolist() "
   ]
  },
  {
   "cell_type": "code",
   "execution_count": 18,
   "id": "a7dd5cfd",
   "metadata": {
    "scrolled": true
   },
   "outputs": [],
   "source": [
    "#rows_with_null"
   ]
  },
  {
   "cell_type": "code",
   "execution_count": 19,
   "id": "cd8bd6c9",
   "metadata": {},
   "outputs": [],
   "source": [
    "VG_data_1.drop(index=rows_with_null, errors='ignore', inplace=True)"
   ]
  },
  {
   "cell_type": "code",
   "execution_count": 20,
   "id": "c9a61762",
   "metadata": {},
   "outputs": [
    {
     "data": {
      "text/plain": [
       "(9950, 14)"
      ]
     },
     "execution_count": 20,
     "metadata": {},
     "output_type": "execute_result"
    }
   ],
   "source": [
    "VG_data_1.shape"
   ]
  },
  {
   "cell_type": "code",
   "execution_count": 21,
   "id": "a1c2588a",
   "metadata": {},
   "outputs": [],
   "source": [
    "VG_data_2=pd.DataFrame(VG_data_1)"
   ]
  },
  {
   "cell_type": "code",
   "execution_count": 22,
   "id": "190c85ed",
   "metadata": {},
   "outputs": [],
   "source": [
    "VG_data_2=VG_data_2.reset_index(drop=True)"
   ]
  },
  {
   "cell_type": "code",
   "execution_count": 23,
   "id": "8d433e79",
   "metadata": {
    "scrolled": true
   },
   "outputs": [
    {
     "data": {
      "text/plain": [
       "Name                 0\n",
       "Platform             0\n",
       "Year_of_Release    181\n",
       "Genre                0\n",
       "Publisher            7\n",
       "NA_Sales             0\n",
       "EU_Sales             0\n",
       "JP_Sales             0\n",
       "Other_Sales          0\n",
       "Global_Sales         0\n",
       "User_Score          71\n",
       "Developer            0\n",
       "Rating               0\n",
       "NULL VALUES          0\n",
       "dtype: int64"
      ]
     },
     "execution_count": 23,
     "metadata": {},
     "output_type": "execute_result"
    }
   ],
   "source": [
    "VG_data_2.isnull().sum()"
   ]
  },
  {
   "cell_type": "markdown",
   "id": "8dfecc26",
   "metadata": {},
   "source": [
    "Taking a more more in depth look at the user score feature, I can see there are the remaing nan values and also a data point of \"tbd\" whicg assumably stands for to be decided. There are 2375 of these entires in this feature. "
   ]
  },
  {
   "cell_type": "code",
   "execution_count": 24,
   "id": "3f8657f9",
   "metadata": {
    "scrolled": true
   },
   "outputs": [
    {
     "data": {
      "text/plain": [
       "array(['8', '8.3', '8.5', '6.6', '8.4', '8.6', '7.7', '6.3', '7.4', '8.2',\n",
       "       '9', '7.9', '8.1', '8.7', '7.1', '3.4', '5.3', '4.8', '3.2', '8.9',\n",
       "       '6.4', '7.8', '7.5', '2.6', '7.2', '9.2', '7', '7.3', '4.3', '7.6',\n",
       "       '5.7', '5', '9.1', '6.5', 'tbd', '8.8', '6.9', '9.4', '6.8', '6.1',\n",
       "       '6.7', '5.4', nan, '4', '4.9', '4.5', '9.3', '6.2', '4.2', '6',\n",
       "       '3.7', '4.1', '5.8', '5.6', '5.5', '4.4', '4.6', '5.9', '3.9',\n",
       "       '3.1', '2.9', '5.2', '3.3', '4.7', '5.1', '3.5', '2.5', '1.9', '3',\n",
       "       '2.7', '2.2', '2', '9.5', '2.1', '3.6', '2.8', '1.8', '3.8', '0',\n",
       "       '1.6', '9.6', '2.4', '1.7', '1.1', '0.3', '1.5', '0.7', '1.2',\n",
       "       '2.3', '0.5', '1.3', '0.2', '0.6', '1.4', '0.9', '1', '9.7'],\n",
       "      dtype=object)"
      ]
     },
     "execution_count": 24,
     "metadata": {},
     "output_type": "execute_result"
    }
   ],
   "source": [
    "VG_data_2[\"User_Score\"].unique()"
   ]
  },
  {
   "cell_type": "markdown",
   "id": "4c89f796",
   "metadata": {},
   "source": [
    "## Dealing with last three features with null values"
   ]
  },
  {
   "cell_type": "code",
   "execution_count": 25,
   "id": "0eeb0611",
   "metadata": {},
   "outputs": [
    {
     "data": {
      "text/plain": [
       "User_Score\n",
       "tbd    2375\n",
       "7.8     322\n",
       "8       286\n",
       "8.2     278\n",
       "8.5     252\n",
       "       ... \n",
       "1.1       2\n",
       "1.9       2\n",
       "9.6       2\n",
       "0         1\n",
       "9.7       1\n",
       "Name: count, Length: 96, dtype: int64"
      ]
     },
     "execution_count": 25,
     "metadata": {},
     "output_type": "execute_result"
    }
   ],
   "source": [
    "VG_data_2[\"User_Score\"].value_counts()"
   ]
  },
  {
   "cell_type": "markdown",
   "id": "032e84bc",
   "metadata": {},
   "source": [
    "To deal with the \"TBD\" problem, I will fill the tbd values with the mean of the feature. To be decided indicates to me they have been critiqued already. Therefore, they are not nan values. It is different to them being empty or nan in the sense that they have been critiqued but the score they have received just hasn't been inputed yet. However, with 2375 entries, imputing the mean here would skew the data as I discovered so I reverted my choice and removed these rows.   "
   ]
  },
  {
   "cell_type": "code",
   "execution_count": 26,
   "id": "a8211af9",
   "metadata": {
    "scrolled": true
   },
   "outputs": [],
   "source": [
    "TBD = \"tbd\"\n",
    "zero = np.nan\n",
    "VG_data_2[\"User_Score\"].replace({TBD: zero},inplace = True)"
   ]
  },
  {
   "cell_type": "code",
   "execution_count": 27,
   "id": "55767003",
   "metadata": {},
   "outputs": [],
   "source": [
    "VG_data_2[\"User_Score\"]=VG_data_2[\"User_Score\"].astype(float)"
   ]
  },
  {
   "cell_type": "code",
   "execution_count": 28,
   "id": "481b1d65",
   "metadata": {},
   "outputs": [],
   "source": [
    "# mean = VG_data_2[\"User_Score\"].mean()\n",
    "# mean"
   ]
  },
  {
   "cell_type": "code",
   "execution_count": 29,
   "id": "9c5948bc",
   "metadata": {},
   "outputs": [],
   "source": [
    "#VG_data_2[\"User_Score\"].replace({zero: mean},inplace = True)"
   ]
  },
  {
   "cell_type": "code",
   "execution_count": 30,
   "id": "95aa60e5",
   "metadata": {},
   "outputs": [
    {
     "name": "stdout",
     "output_type": "stream",
     "text": [
      "<class 'pandas.core.frame.DataFrame'>\n",
      "RangeIndex: 9950 entries, 0 to 9949\n",
      "Data columns (total 14 columns):\n",
      " #   Column           Non-Null Count  Dtype  \n",
      "---  ------           --------------  -----  \n",
      " 0   Name             9950 non-null   object \n",
      " 1   Platform         9950 non-null   object \n",
      " 2   Year_of_Release  9769 non-null   float64\n",
      " 3   Genre            9950 non-null   object \n",
      " 4   Publisher        9943 non-null   object \n",
      " 5   NA_Sales         9950 non-null   float64\n",
      " 6   EU_Sales         9950 non-null   float64\n",
      " 7   JP_Sales         9950 non-null   float64\n",
      " 8   Other_Sales      9950 non-null   float64\n",
      " 9   Global_Sales     9950 non-null   float64\n",
      " 10  User_Score       7504 non-null   float64\n",
      " 11  Developer        9950 non-null   object \n",
      " 12  Rating           9950 non-null   object \n",
      " 13  NULL VALUES      9950 non-null   int64  \n",
      "dtypes: float64(7), int64(1), object(6)\n",
      "memory usage: 1.1+ MB\n"
     ]
    }
   ],
   "source": [
    "VG_data_2.info()"
   ]
  },
  {
   "cell_type": "markdown",
   "id": "08ade162",
   "metadata": {},
   "source": [
    "The final step in the process is to drop the remaining rows with nan values. In my opinion, inputing the mean year would'nt be an accurate representation of the data as it would only impute the average years so it could lead to some games being mis labelled. "
   ]
  },
  {
   "cell_type": "code",
   "execution_count": 31,
   "id": "1b66d7e7",
   "metadata": {},
   "outputs": [],
   "source": [
    "VG_data_2.dropna(inplace=True)"
   ]
  },
  {
   "cell_type": "code",
   "execution_count": 32,
   "id": "02940df9",
   "metadata": {},
   "outputs": [],
   "source": [
    "VG_data_2.drop(columns=\"NULL VALUES\",inplace=True)"
   ]
  },
  {
   "cell_type": "code",
   "execution_count": 33,
   "id": "f20d0e1d",
   "metadata": {},
   "outputs": [],
   "source": [
    "VG_data_2.reset_index(drop=True, inplace=True)"
   ]
  },
  {
   "cell_type": "code",
   "execution_count": 34,
   "id": "9f3d2f2b",
   "metadata": {},
   "outputs": [
    {
     "name": "stdout",
     "output_type": "stream",
     "text": [
      "<class 'pandas.core.frame.DataFrame'>\n",
      "RangeIndex: 7378 entries, 0 to 7377\n",
      "Data columns (total 13 columns):\n",
      " #   Column           Non-Null Count  Dtype  \n",
      "---  ------           --------------  -----  \n",
      " 0   Name             7378 non-null   object \n",
      " 1   Platform         7378 non-null   object \n",
      " 2   Year_of_Release  7378 non-null   float64\n",
      " 3   Genre            7378 non-null   object \n",
      " 4   Publisher        7378 non-null   object \n",
      " 5   NA_Sales         7378 non-null   float64\n",
      " 6   EU_Sales         7378 non-null   float64\n",
      " 7   JP_Sales         7378 non-null   float64\n",
      " 8   Other_Sales      7378 non-null   float64\n",
      " 9   Global_Sales     7378 non-null   float64\n",
      " 10  User_Score       7378 non-null   float64\n",
      " 11  Developer        7378 non-null   object \n",
      " 12  Rating           7378 non-null   object \n",
      "dtypes: float64(7), object(6)\n",
      "memory usage: 749.5+ KB\n"
     ]
    }
   ],
   "source": [
    "VG_data_2.info()"
   ]
  },
  {
   "cell_type": "markdown",
   "id": "b47f6e56",
   "metadata": {},
   "source": [
    "It was at this point that I realised that the new dataset was a vastly depleted version of the old one. Having read the brief again, I concluded that there was no need to deplete the dataset for the first questions as the relevant features have minimal missing values. Creating visualisations based on the new dataset numbers wouldn't give an accurate account of the data as there is abundance of data being deleted which would lead to bias as the results are extremely limited the remaining data points. The majority of sales data is still in tact so deleting this will affect the honesty of the visualisations. \n",
    "\n",
    "Consequently, I decided to use two datasets to complete various parts of the assignment. I will use the first dataset for the first four questions regarding continental sales/genre and the smaller dataset for the question relating to the developer feature and my own question which is based on the user score. "
   ]
  },
  {
   "cell_type": "markdown",
   "id": "782dc550",
   "metadata": {},
   "source": [
    "# Creating a dataset using the columns I need for the first 4 questions of the assignment brief"
   ]
  },
  {
   "cell_type": "code",
   "execution_count": 35,
   "id": "8fadb6dc",
   "metadata": {},
   "outputs": [],
   "source": [
    "Unused_cols = VG_data[[\"Rating\",\"Developer\",\"User_Count\",\"User_Score\",\"Critic_Count\",\"Critic_Score\"]]"
   ]
  },
  {
   "cell_type": "code",
   "execution_count": 36,
   "id": "c47958e2",
   "metadata": {},
   "outputs": [],
   "source": [
    "VG_data_clean = VG_data.drop(Unused_cols, axis =1)"
   ]
  },
  {
   "cell_type": "code",
   "execution_count": 37,
   "id": "1a206aa6",
   "metadata": {},
   "outputs": [],
   "source": [
    "VG_data_clean.dropna(inplace=True)"
   ]
  },
  {
   "cell_type": "code",
   "execution_count": 38,
   "id": "b3893ca0",
   "metadata": {
    "scrolled": true
   },
   "outputs": [
    {
     "name": "stdout",
     "output_type": "stream",
     "text": [
      "<class 'pandas.core.frame.DataFrame'>\n",
      "Index: 16416 entries, 0 to 16718\n",
      "Data columns (total 10 columns):\n",
      " #   Column           Non-Null Count  Dtype  \n",
      "---  ------           --------------  -----  \n",
      " 0   Name             16416 non-null  object \n",
      " 1   Platform         16416 non-null  object \n",
      " 2   Year_of_Release  16416 non-null  float64\n",
      " 3   Genre            16416 non-null  object \n",
      " 4   Publisher        16416 non-null  object \n",
      " 5   NA_Sales         16416 non-null  float64\n",
      " 6   EU_Sales         16416 non-null  float64\n",
      " 7   JP_Sales         16416 non-null  float64\n",
      " 8   Other_Sales      16416 non-null  float64\n",
      " 9   Global_Sales     16416 non-null  float64\n",
      "dtypes: float64(6), object(4)\n",
      "memory usage: 1.4+ MB\n"
     ]
    }
   ],
   "source": [
    "VG_data_clean.info()"
   ]
  },
  {
   "cell_type": "markdown",
   "id": "91418cbe",
   "metadata": {},
   "source": [
    "With the above data, I can create visualisations that are truer to features they represent for the sepcific questions relating to them. Thus, creating more accurate visuals. This is simply because there are more data points so the data is more accurate. \n",
    "\n",
    "\n",
    "For all visualisations, I am using a mixture of seaborn and matploylib. There are a few small differnces between the two such as the color palletes and some statistical attributes but both can be used in combination or separetley. "
   ]
  },
  {
   "cell_type": "markdown",
   "id": "a95d9ef4",
   "metadata": {},
   "source": [
    "# Visualisations"
   ]
  },
  {
   "cell_type": "markdown",
   "id": "34e0afd7",
   "metadata": {},
   "source": [
    "### Q1. What are the top 5 games by global sales? "
   ]
  },
  {
   "cell_type": "markdown",
   "id": "7a1dfa11",
   "metadata": {},
   "source": [
    "I used a bar chart for this question as bar charts are ideal for ranking information. It is easy to see all the relevant information relating to the data using a bar chart. \n",
    "\n",
    "I began by storing the two relevant columns \"Global_Sales\",\"Name\" into a new dataset. Making a new dataset makes it easier to revert back to original datset if needs be. \n",
    "\n",
    "I used the .head() method as this takes the top 5 results. I can see they are already in ascending order so theres no need to do much else here. "
   ]
  },
  {
   "cell_type": "code",
   "execution_count": 39,
   "id": "9191491e",
   "metadata": {},
   "outputs": [],
   "source": [
    "top5= pd.DataFrame(VG_data_clean[[\"Global_Sales\",\"Name\"]].head())"
   ]
  },
  {
   "cell_type": "code",
   "execution_count": 40,
   "id": "ffd05ef2",
   "metadata": {},
   "outputs": [
    {
     "data": {
      "text/html": [
       "<div>\n",
       "<style scoped>\n",
       "    .dataframe tbody tr th:only-of-type {\n",
       "        vertical-align: middle;\n",
       "    }\n",
       "\n",
       "    .dataframe tbody tr th {\n",
       "        vertical-align: top;\n",
       "    }\n",
       "\n",
       "    .dataframe thead th {\n",
       "        text-align: right;\n",
       "    }\n",
       "</style>\n",
       "<table border=\"1\" class=\"dataframe\">\n",
       "  <thead>\n",
       "    <tr style=\"text-align: right;\">\n",
       "      <th></th>\n",
       "      <th>Global_Sales</th>\n",
       "      <th>Name</th>\n",
       "    </tr>\n",
       "  </thead>\n",
       "  <tbody>\n",
       "    <tr>\n",
       "      <th>0</th>\n",
       "      <td>82.53</td>\n",
       "      <td>Wii Sports</td>\n",
       "    </tr>\n",
       "    <tr>\n",
       "      <th>1</th>\n",
       "      <td>40.24</td>\n",
       "      <td>Super Mario Bros.</td>\n",
       "    </tr>\n",
       "    <tr>\n",
       "      <th>2</th>\n",
       "      <td>35.52</td>\n",
       "      <td>Mario Kart Wii</td>\n",
       "    </tr>\n",
       "    <tr>\n",
       "      <th>3</th>\n",
       "      <td>32.77</td>\n",
       "      <td>Wii Sports Resort</td>\n",
       "    </tr>\n",
       "    <tr>\n",
       "      <th>4</th>\n",
       "      <td>31.37</td>\n",
       "      <td>Pokemon Red/Pokemon Blue</td>\n",
       "    </tr>\n",
       "  </tbody>\n",
       "</table>\n",
       "</div>"
      ],
      "text/plain": [
       "   Global_Sales                      Name\n",
       "0         82.53                Wii Sports\n",
       "1         40.24         Super Mario Bros.\n",
       "2         35.52            Mario Kart Wii\n",
       "3         32.77         Wii Sports Resort\n",
       "4         31.37  Pokemon Red/Pokemon Blue"
      ]
     },
     "execution_count": 40,
     "metadata": {},
     "output_type": "execute_result"
    }
   ],
   "source": [
    "top5"
   ]
  },
  {
   "cell_type": "code",
   "execution_count": 41,
   "id": "dfd0e748",
   "metadata": {},
   "outputs": [],
   "source": [
    "from numpy import mean\n",
    "import seaborn as sns\n",
    "from matplotlib import pyplot as plt"
   ]
  },
  {
   "cell_type": "markdown",
   "id": "2c924f16",
   "metadata": {},
   "source": [
    "#### Step by step walk trhough of what the code in the following cell is doing\n",
    "-plt.style.use(\"dark_background\") - set back ground style. <br>\n",
    "-plt.figure(figsize = (12,8)) - set figure size. <br>\n",
    "-sns.barplot(data=top5, x=\"Name\",y = \"Global_Sales\") - use a barplot from the seaborn library and take data rom top5 data set. Set x axis = Name feature and y axis = global sales feature. <br>\n",
    "-plt.xticks(rotation=45) - Rotate information on x axis by 45 degrees. <br>\n",
    "-plt.xlabel(\"Game\", fontsize=20) - Label x axis. <br>\n",
    "plt.ylabel(\"Global Sales in millions\", fontsize=20) - Label y axis.\n",
    "-plt.title(\"Top 5 Games by Global Sales\", fontsize = 30) - Visualisation Heading. <br>\n"
   ]
  },
  {
   "cell_type": "code",
   "execution_count": 42,
   "id": "be3bd66f",
   "metadata": {},
   "outputs": [
    {
     "data": {
      "image/png": "[encoded data removed]",
      "text/plain": [
       "<Figure size 1200x800 with 1 Axes>"
      ]
     },
     "metadata": {},
     "output_type": "display_data"
    }
   ],
   "source": [
    "plt.style.use(\"dark_background\")\n",
    "plt.figure(figsize = (12,8))\n",
    "sns.barplot(data=top5, x=\"Name\",y = \"Global_Sales\")\n",
    "plt.xticks(rotation=45)\n",
    "plt.xlabel(\"Game\", fontsize=20)\n",
    "plt.ylabel(\"Global Sales in millions\", fontsize=20)\n",
    "plt.title(\"Top 5 Games by Global Sales\", fontsize = 30)\n",
    "plt.show()"
   ]
  },
  {
   "cell_type": "markdown",
   "id": "a39fd1de",
   "metadata": {},
   "source": [
    "#### Conclusion Q1\n",
    "\n",
    "I can see from the bar chart the Wii Sports is the most popular game based off its global sales. In fifth position was the pokemon games with 31.37 million sales globally. \n",
    "\n",
    "I set the value to millions as it seem that if its a global analysis, millions would be more apporopriate than thousands. "
   ]
  },
  {
   "cell_type": "markdown",
   "id": "ad543e5b",
   "metadata": {},
   "source": [
    "## Is there a correlation between the na_sales and jp_sales for the years 2010-2014?"
   ]
  },
  {
   "cell_type": "markdown",
   "id": "b78336a5",
   "metadata": {},
   "source": [
    "The best way to see visually see correlation between features is by using a heatmap. \n",
    "\n",
    "I began by storing the relevant years into varibales. Following this, I filtered out the data pertaining to these years and stored in variable (VG_filtered). Finally, I filtered out the two relevant years and stored that into a variable (salesData). To extract feature correlation, I used the .corr() method. The final step was to create the visual which can be seen below.  "
   ]
  },
  {
   "cell_type": "code",
   "execution_count": 43,
   "id": "5b0c2c79",
   "metadata": {},
   "outputs": [],
   "source": [
    "start_year = 2010\n",
    "end_year = 2014"
   ]
  },
  {
   "cell_type": "code",
   "execution_count": 44,
   "id": "b2abe828",
   "metadata": {},
   "outputs": [],
   "source": [
    "VG_filtered = VG_data_clean[(VG_data_clean[\"Year_of_Release\"] >= start_year) & (VG_data_clean[\"Year_of_Release\"] <= end_year)];"
   ]
  },
  {
   "cell_type": "code",
   "execution_count": 45,
   "id": "e597843e",
   "metadata": {},
   "outputs": [],
   "source": [
    "salesData = VG_filtered[[\"NA_Sales\",\"JP_Sales\"]]"
   ]
  },
  {
   "cell_type": "code",
   "execution_count": 46,
   "id": "ae45624e",
   "metadata": {},
   "outputs": [
    {
     "data": {
      "text/html": [
       "<div>\n",
       "<style scoped>\n",
       "    .dataframe tbody tr th:only-of-type {\n",
       "        vertical-align: middle;\n",
       "    }\n",
       "\n",
       "    .dataframe tbody tr th {\n",
       "        vertical-align: top;\n",
       "    }\n",
       "\n",
       "    .dataframe thead th {\n",
       "        text-align: right;\n",
       "    }\n",
       "</style>\n",
       "<table border=\"1\" class=\"dataframe\">\n",
       "  <thead>\n",
       "    <tr style=\"text-align: right;\">\n",
       "      <th></th>\n",
       "      <th>NA_Sales</th>\n",
       "      <th>JP_Sales</th>\n",
       "    </tr>\n",
       "  </thead>\n",
       "  <tbody>\n",
       "    <tr>\n",
       "      <th>NA_Sales</th>\n",
       "      <td>1.000000</td>\n",
       "      <td>0.260357</td>\n",
       "    </tr>\n",
       "    <tr>\n",
       "      <th>JP_Sales</th>\n",
       "      <td>0.260357</td>\n",
       "      <td>1.000000</td>\n",
       "    </tr>\n",
       "  </tbody>\n",
       "</table>\n",
       "</div>"
      ],
      "text/plain": [
       "          NA_Sales  JP_Sales\n",
       "NA_Sales  1.000000  0.260357\n",
       "JP_Sales  0.260357  1.000000"
      ]
     },
     "execution_count": 46,
     "metadata": {},
     "output_type": "execute_result"
    }
   ],
   "source": [
    "salesData.corr()"
   ]
  },
  {
   "cell_type": "code",
   "execution_count": 47,
   "id": "d7a65b42",
   "metadata": {},
   "outputs": [
    {
     "data": {
      "image/png": "[encoded data removed]",
      "text/plain": [
       "<Figure size 1500x800 with 2 Axes>"
      ]
     },
     "metadata": {},
     "output_type": "display_data"
    }
   ],
   "source": [
    "plt.figure(figsize=(15,8))\n",
    "sns.heatmap(salesData.corr(), annot=True, cmap = \"viridis\",annot_kws={'color': 'white'} )\n",
    "plt.title(\"Correlation Map of North American Sales and Japanese Sales\", fontsize=30);"
   ]
  },
  {
   "cell_type": "markdown",
   "id": "c1b6e70a",
   "metadata": {},
   "source": [
    "#### Conclusion Q2\n",
    "\n",
    "Correlatoin is measured on a scale from 0-1. 0 being no correlation and 1 being heavily correlated. \n",
    "\n",
    "A result here of 0.26 would mean that there is some correlation between the features. However, it is a weak positve correlation but it is reading nonetheless and would indicate that the two varibale move slightly in the same direction.  "
   ]
  },
  {
   "cell_type": "markdown",
   "id": "8616525e",
   "metadata": {},
   "source": [
    "## What is the distribution of the most popular 4 game genres?"
   ]
  },
  {
   "cell_type": "markdown",
   "id": "0a0a4086",
   "metadata": {},
   "source": [
    "As the question here is some what open to interpretation, I have opted to do the proportional distributrion relative to the overall dataset. As I was dealing with proportional data, I used a pie chart to display the information.\n",
    "\n",
    "To begin, I used the value_counts() method to count how many of each genres there were in the entire dataset and stored that in a variable(genre_valueCounts). By retaining only four most popular genres, it creates a differnet distribution. Using just four genres creates the percentages based on the top four only as oppose to the entire dataset. To see the top 4 on its own, I used the .head(4) method to only return the top 4 entries and stored that in a varibale (Top4_genre1). \n",
    "\n",
    "As a pie chart uses proportional data, I had get the per centage of each genre to the entire dataset. I rounded to two decimal places adn converted it to a list so it could be interpreted by matpltlibs pie chart function. "
   ]
  },
  {
   "cell_type": "code",
   "execution_count": 48,
   "id": "055afae8",
   "metadata": {},
   "outputs": [
    {
     "data": {
      "text/plain": [
       "Genre\n",
       "Action          3307\n",
       "Sports          2306\n",
       "Misc            1697\n",
       "Role-Playing    1483\n",
       "Name: count, dtype: int64"
      ]
     },
     "execution_count": 48,
     "metadata": {},
     "output_type": "execute_result"
    }
   ],
   "source": [
    "#Counting genre values and displaying top 4\n",
    "genre_valueCounts = VG_data_clean[\"Genre\"].value_counts()\n",
    "Top4_genre1 = genre_valueCounts.head(4)\n",
    "Top4_genre1"
   ]
  },
  {
   "cell_type": "code",
   "execution_count": 49,
   "id": "9149f2b3",
   "metadata": {},
   "outputs": [
    {
     "data": {
      "text/plain": [
       "Genre\n",
       "Action          3307\n",
       "Sports          2306\n",
       "Misc            1697\n",
       "Role-Playing    1483\n",
       "Shooter         1296\n",
       "Adventure       1291\n",
       "Racing          1225\n",
       "Platform         878\n",
       "Simulation       855\n",
       "Fighting         837\n",
       "Strategy         672\n",
       "Puzzle           569\n",
       "Name: count, dtype: int64"
      ]
     },
     "execution_count": 49,
     "metadata": {},
     "output_type": "execute_result"
    }
   ],
   "source": [
    "#Counting genre values of entire dataset\n",
    "genre_valueCounts = VG_data_clean[\"Genre\"].value_counts()\n",
    "Top4_genre = genre_valueCounts\n",
    "Top4_genre"
   ]
  },
  {
   "cell_type": "code",
   "execution_count": 50,
   "id": "5e290e85",
   "metadata": {},
   "outputs": [
    {
     "name": "stdout",
     "output_type": "stream",
     "text": [
      "Genre\n",
      "Action          0.20145\n",
      "Sports          0.14047\n",
      "Misc            0.10337\n",
      "Role-Playing    0.09034\n",
      "Shooter         0.07895\n",
      "Adventure       0.07864\n",
      "Racing          0.07462\n",
      "Platform        0.05348\n",
      "Simulation      0.05208\n",
      "Fighting        0.05099\n",
      "Strategy        0.04094\n",
      "Puzzle          0.03466\n",
      "Name: count, dtype: float64\n"
     ]
    }
   ],
   "source": [
    "#Percentage of each genre to the entire dataset\n",
    "frequency = Top4_genre/(len(VG_data_clean))\n",
    "rounded = round(frequency, ndigits = 5)\n",
    "print(rounded)"
   ]
  },
  {
   "cell_type": "code",
   "execution_count": 51,
   "id": "f308aa09",
   "metadata": {},
   "outputs": [
    {
     "name": "stdout",
     "output_type": "stream",
     "text": [
      "[0.20145, 0.14047, 0.10337, 0.09034, 0.07895, 0.07864, 0.07462, 0.05348, 0.05208, 0.05099, 0.04094, 0.03466]\n"
     ]
    }
   ],
   "source": [
    "RoundList=rounded.tolist()\n",
    "print(RoundList)"
   ]
  },
  {
   "cell_type": "markdown",
   "id": "8a6154db",
   "metadata": {},
   "source": [
    "explode = seperation of each segment <br> \n",
    "labels = names of each segment <br>\n",
    "percentages = List of percentages from above <br>\n",
    "def func(pct, allvalues) = This function is calculating the percentages of each proportion.\n",
    "\n"
   ]
  },
  {
   "cell_type": "code",
   "execution_count": 52,
   "id": "e48305b8",
   "metadata": {},
   "outputs": [
    {
     "data": {
      "image/png": "[encoded data removed]",
      "text/plain": [
       "<Figure size 1200x1000 with 1 Axes>"
      ]
     },
     "metadata": {},
     "output_type": "display_data"
    }
   ],
   "source": [
    "plt.style.use(\"default\")\n",
    "\n",
    "explode=(0.2,0.1,0.2,0.1,0.2,0.1,0.2,0.1,0.2,0.1,0.2,0.1)\n",
    "labels=[\"Action\",\"Sports\",\"Misc\",\"Role-Playing\",\"Shooter\",\"Adventure\",\"Racing\",\"Platform\",\"Simulation\",\"Fighting\",\"Strategy\",\"Puzzle\"]\n",
    "percentages = RoundList\n",
    "\n",
    "colours=[\"gainsboro\",\"lightcoral\",\"goldenrod\",\"yellow\",\"lawngreen\",\"turquoise\",\n",
    "       \"dodgerblue\",\"mediumpurple\",\"violet\",\"lightpink\",\"lightcyan\",\"lightyellow\"]\n",
    "\n",
    "def func(pct, allvalues):\n",
    "    absolute = int(pct / 100.*np.sum(allvalues))\n",
    "    return \"{:.2f}%\".format(pct, absolute)\n",
    "\n",
    "fig, ax = plt.subplots(figsize=(12, 10))\n",
    "genre_distribution = ax.pie(RoundList,explode=explode,labels=labels,shadow=True,\n",
    "                            autopct=lambda pct: func(pct, percentages),\n",
    "                            textprops=dict(color=\"black\"),colors=colours)\n",
    "\n",
    "\n",
    "ax.set_title(\"Genre Proportional Distribution\", fontsize=30)\n",
    "\n",
    "plt.show()"
   ]
  },
  {
   "cell_type": "markdown",
   "id": "34cb1db6",
   "metadata": {},
   "source": [
    "#### Conclusion Q3\n",
    "\n",
    "The final result is a depiction of the overall distribution of the genre feature. From this, we can clearly see the top four genres. They are : <br>\n",
    "- Action <br>\n",
    "- Sports <br>\n",
    "- Misc <br>\n",
    "- Role Playing"
   ]
  },
  {
   "cell_type": "markdown",
   "id": "890e68e7",
   "metadata": {},
   "source": [
    "## Do older games (2005 and earlier) have a higher MEAN “eu_sales” than newer games (after 2005) ?"
   ]
  },
  {
   "cell_type": "markdown",
   "id": "4f4c7476",
   "metadata": {},
   "source": [
    "The best way to display the mean of a feature is by using a plot of some sort. For this question, I opted for a box plot. There was a little more coding involved to get the data ready to be plotted. I broke the data up into two seperate datasets. One containing data from pre 2005 and the other containing data from 2005 and on. After looking at the description of each I noticed that the data was skewed so I tidied it up by removing values based on the inter quartile range. This removed any outliers and centered the data around zero more so than at the outset. "
   ]
  },
  {
   "cell_type": "code",
   "execution_count": 53,
   "id": "4fdb3f43",
   "metadata": {},
   "outputs": [],
   "source": [
    "pre2005 = 2005\n",
    "post2005 = 2005"
   ]
  },
  {
   "cell_type": "code",
   "execution_count": 54,
   "id": "c4ba09a8",
   "metadata": {},
   "outputs": [],
   "source": [
    "VG_post_2005 = VG_data_clean[(VG_data_clean[\"Year_of_Release\"] >= post2005)];\n",
    "VG_pre_2005 = VG_data_clean[(VG_data_clean[\"Year_of_Release\"] < pre2005)];"
   ]
  },
  {
   "cell_type": "markdown",
   "id": "949ccc2f",
   "metadata": {},
   "source": [
    "#### Filtering Games Before 2005"
   ]
  },
  {
   "cell_type": "code",
   "execution_count": 55,
   "id": "afc26684",
   "metadata": {},
   "outputs": [
    {
     "data": {
      "text/plain": [
       "(5153, 10)"
      ]
     },
     "execution_count": 55,
     "metadata": {},
     "output_type": "execute_result"
    }
   ],
   "source": [
    "VG_pre_2005.shape"
   ]
  },
  {
   "cell_type": "code",
   "execution_count": 56,
   "id": "837a315b",
   "metadata": {},
   "outputs": [
    {
     "data": {
      "text/html": [
       "<div>\n",
       "<style scoped>\n",
       "    .dataframe tbody tr th:only-of-type {\n",
       "        vertical-align: middle;\n",
       "    }\n",
       "\n",
       "    .dataframe tbody tr th {\n",
       "        vertical-align: top;\n",
       "    }\n",
       "\n",
       "    .dataframe thead th {\n",
       "        text-align: right;\n",
       "    }\n",
       "</style>\n",
       "<table border=\"1\" class=\"dataframe\">\n",
       "  <thead>\n",
       "    <tr style=\"text-align: right;\">\n",
       "      <th></th>\n",
       "      <th>Name</th>\n",
       "      <th>Platform</th>\n",
       "      <th>Year_of_Release</th>\n",
       "      <th>Genre</th>\n",
       "      <th>Publisher</th>\n",
       "      <th>NA_Sales</th>\n",
       "      <th>EU_Sales</th>\n",
       "      <th>JP_Sales</th>\n",
       "      <th>Other_Sales</th>\n",
       "      <th>Global_Sales</th>\n",
       "    </tr>\n",
       "  </thead>\n",
       "  <tbody>\n",
       "    <tr>\n",
       "      <th>1</th>\n",
       "      <td>Super Mario Bros.</td>\n",
       "      <td>NES</td>\n",
       "      <td>1985.0</td>\n",
       "      <td>Platform</td>\n",
       "      <td>Nintendo</td>\n",
       "      <td>29.08</td>\n",
       "      <td>3.58</td>\n",
       "      <td>6.81</td>\n",
       "      <td>0.77</td>\n",
       "      <td>40.24</td>\n",
       "    </tr>\n",
       "    <tr>\n",
       "      <th>4</th>\n",
       "      <td>Pokemon Red/Pokemon Blue</td>\n",
       "      <td>GB</td>\n",
       "      <td>1996.0</td>\n",
       "      <td>Role-Playing</td>\n",
       "      <td>Nintendo</td>\n",
       "      <td>11.27</td>\n",
       "      <td>8.89</td>\n",
       "      <td>10.22</td>\n",
       "      <td>1.00</td>\n",
       "      <td>31.37</td>\n",
       "    </tr>\n",
       "    <tr>\n",
       "      <th>5</th>\n",
       "      <td>Tetris</td>\n",
       "      <td>GB</td>\n",
       "      <td>1989.0</td>\n",
       "      <td>Puzzle</td>\n",
       "      <td>Nintendo</td>\n",
       "      <td>23.20</td>\n",
       "      <td>2.26</td>\n",
       "      <td>4.22</td>\n",
       "      <td>0.58</td>\n",
       "      <td>30.26</td>\n",
       "    </tr>\n",
       "    <tr>\n",
       "      <th>9</th>\n",
       "      <td>Duck Hunt</td>\n",
       "      <td>NES</td>\n",
       "      <td>1984.0</td>\n",
       "      <td>Shooter</td>\n",
       "      <td>Nintendo</td>\n",
       "      <td>26.93</td>\n",
       "      <td>0.63</td>\n",
       "      <td>0.28</td>\n",
       "      <td>0.47</td>\n",
       "      <td>28.31</td>\n",
       "    </tr>\n",
       "    <tr>\n",
       "      <th>12</th>\n",
       "      <td>Pokemon Gold/Pokemon Silver</td>\n",
       "      <td>GB</td>\n",
       "      <td>1999.0</td>\n",
       "      <td>Role-Playing</td>\n",
       "      <td>Nintendo</td>\n",
       "      <td>9.00</td>\n",
       "      <td>6.18</td>\n",
       "      <td>7.20</td>\n",
       "      <td>0.71</td>\n",
       "      <td>23.10</td>\n",
       "    </tr>\n",
       "  </tbody>\n",
       "</table>\n",
       "</div>"
      ],
      "text/plain": [
       "                           Name Platform  Year_of_Release         Genre  \\\n",
       "1             Super Mario Bros.      NES           1985.0      Platform   \n",
       "4      Pokemon Red/Pokemon Blue       GB           1996.0  Role-Playing   \n",
       "5                        Tetris       GB           1989.0        Puzzle   \n",
       "9                     Duck Hunt      NES           1984.0       Shooter   \n",
       "12  Pokemon Gold/Pokemon Silver       GB           1999.0  Role-Playing   \n",
       "\n",
       "   Publisher  NA_Sales  EU_Sales  JP_Sales  Other_Sales  Global_Sales  \n",
       "1   Nintendo     29.08      3.58      6.81         0.77         40.24  \n",
       "4   Nintendo     11.27      8.89     10.22         1.00         31.37  \n",
       "5   Nintendo     23.20      2.26      4.22         0.58         30.26  \n",
       "9   Nintendo     26.93      0.63      0.28         0.47         28.31  \n",
       "12  Nintendo      9.00      6.18      7.20         0.71         23.10  "
      ]
     },
     "execution_count": 56,
     "metadata": {},
     "output_type": "execute_result"
    }
   ],
   "source": [
    "VG_pre_2005.head()"
   ]
  },
  {
   "cell_type": "code",
   "execution_count": 57,
   "id": "9574a1b9",
   "metadata": {
    "scrolled": true
   },
   "outputs": [],
   "source": [
    "VG_pre_2005.reset_index(drop=True, inplace=True)"
   ]
  },
  {
   "cell_type": "code",
   "execution_count": 58,
   "id": "7a350d0e",
   "metadata": {},
   "outputs": [],
   "source": [
    "VG_pre_2005_EUsales = VG_pre_2005[[\"EU_Sales\"]]"
   ]
  },
  {
   "cell_type": "code",
   "execution_count": 59,
   "id": "86531bcc",
   "metadata": {
    "scrolled": true
   },
   "outputs": [
    {
     "data": {
      "text/html": [
       "<div>\n",
       "<style scoped>\n",
       "    .dataframe tbody tr th:only-of-type {\n",
       "        vertical-align: middle;\n",
       "    }\n",
       "\n",
       "    .dataframe tbody tr th {\n",
       "        vertical-align: top;\n",
       "    }\n",
       "\n",
       "    .dataframe thead th {\n",
       "        text-align: right;\n",
       "    }\n",
       "</style>\n",
       "<table border=\"1\" class=\"dataframe\">\n",
       "  <thead>\n",
       "    <tr style=\"text-align: right;\">\n",
       "      <th></th>\n",
       "      <th>EU Sales Pre 2005</th>\n",
       "    </tr>\n",
       "  </thead>\n",
       "  <tbody>\n",
       "    <tr>\n",
       "      <th>count</th>\n",
       "      <td>5153.000000</td>\n",
       "    </tr>\n",
       "    <tr>\n",
       "      <th>mean</th>\n",
       "      <td>0.151595</td>\n",
       "    </tr>\n",
       "    <tr>\n",
       "      <th>std</th>\n",
       "      <td>0.389971</td>\n",
       "    </tr>\n",
       "    <tr>\n",
       "      <th>min</th>\n",
       "      <td>0.000000</td>\n",
       "    </tr>\n",
       "    <tr>\n",
       "      <th>25%</th>\n",
       "      <td>0.010000</td>\n",
       "    </tr>\n",
       "    <tr>\n",
       "      <th>50%</th>\n",
       "      <td>0.040000</td>\n",
       "    </tr>\n",
       "    <tr>\n",
       "      <th>75%</th>\n",
       "      <td>0.130000</td>\n",
       "    </tr>\n",
       "    <tr>\n",
       "      <th>max</th>\n",
       "      <td>8.890000</td>\n",
       "    </tr>\n",
       "  </tbody>\n",
       "</table>\n",
       "</div>"
      ],
      "text/plain": [
       "       EU Sales Pre 2005\n",
       "count        5153.000000\n",
       "mean            0.151595\n",
       "std             0.389971\n",
       "min             0.000000\n",
       "25%             0.010000\n",
       "50%             0.040000\n",
       "75%             0.130000\n",
       "max             8.890000"
      ]
     },
     "execution_count": 59,
     "metadata": {},
     "output_type": "execute_result"
    }
   ],
   "source": [
    "VG_pre_2005_EUsales_1 = VG_pre_2005_EUsales.rename(columns={\"EU_Sales\":\"EU Sales Pre 2005\"})\n",
    "VG_pre_2005_EUsales_1.describe()"
   ]
  },
  {
   "cell_type": "code",
   "execution_count": 60,
   "id": "c5685532",
   "metadata": {},
   "outputs": [
    {
     "name": "stdout",
     "output_type": "stream",
     "text": [
      "New Shape:  (4557, 1)\n"
     ]
    }
   ],
   "source": [
    "# IQR\n",
    "# Calculate the upper and lower limits\n",
    "Q1 = VG_pre_2005_EUsales_1[\"EU Sales Pre 2005\"].quantile(0.25)\n",
    "Q3 = VG_pre_2005_EUsales_1[\"EU Sales Pre 2005\"].quantile(0.75)\n",
    "IQR = Q3 - Q1\n",
    "lower = Q1 - 1.5*IQR\n",
    "upper = Q3 + 1.5*IQR\n",
    "\n",
    "# Create arrays of Boolean values indicating the outlier rows\n",
    "upper_array = np.where(VG_pre_2005_EUsales_1[\"EU Sales Pre 2005\"] >= upper)[0]\n",
    "lower_array = np.where(VG_pre_2005_EUsales_1[\"EU Sales Pre 2005\"] <= lower)[0]\n",
    "\n",
    "# Removing the outliers\n",
    "VG_pre_2005_EUsales_1.drop(index=upper_array, inplace=True)\n",
    "VG_pre_2005_EUsales_1.drop(index=lower_array, inplace=True)\n",
    "\n",
    "# Print the new shape of the DataFrame\n",
    "print(\"New Shape: \", VG_pre_2005_EUsales_1.shape)"
   ]
  },
  {
   "cell_type": "code",
   "execution_count": 61,
   "id": "694e2092",
   "metadata": {},
   "outputs": [
    {
     "data": {
      "text/html": [
       "<div>\n",
       "<style scoped>\n",
       "    .dataframe tbody tr th:only-of-type {\n",
       "        vertical-align: middle;\n",
       "    }\n",
       "\n",
       "    .dataframe tbody tr th {\n",
       "        vertical-align: top;\n",
       "    }\n",
       "\n",
       "    .dataframe thead th {\n",
       "        text-align: right;\n",
       "    }\n",
       "</style>\n",
       "<table border=\"1\" class=\"dataframe\">\n",
       "  <thead>\n",
       "    <tr style=\"text-align: right;\">\n",
       "      <th></th>\n",
       "      <th>EU Sales Pre 2005</th>\n",
       "    </tr>\n",
       "  </thead>\n",
       "  <tbody>\n",
       "    <tr>\n",
       "      <th>count</th>\n",
       "      <td>4557.000000</td>\n",
       "    </tr>\n",
       "    <tr>\n",
       "      <th>mean</th>\n",
       "      <td>0.057253</td>\n",
       "    </tr>\n",
       "    <tr>\n",
       "      <th>std</th>\n",
       "      <td>0.069995</td>\n",
       "    </tr>\n",
       "    <tr>\n",
       "      <th>min</th>\n",
       "      <td>0.000000</td>\n",
       "    </tr>\n",
       "    <tr>\n",
       "      <th>25%</th>\n",
       "      <td>0.010000</td>\n",
       "    </tr>\n",
       "    <tr>\n",
       "      <th>50%</th>\n",
       "      <td>0.030000</td>\n",
       "    </tr>\n",
       "    <tr>\n",
       "      <th>75%</th>\n",
       "      <td>0.080000</td>\n",
       "    </tr>\n",
       "    <tr>\n",
       "      <th>max</th>\n",
       "      <td>0.310000</td>\n",
       "    </tr>\n",
       "  </tbody>\n",
       "</table>\n",
       "</div>"
      ],
      "text/plain": [
       "       EU Sales Pre 2005\n",
       "count        4557.000000\n",
       "mean            0.057253\n",
       "std             0.069995\n",
       "min             0.000000\n",
       "25%             0.010000\n",
       "50%             0.030000\n",
       "75%             0.080000\n",
       "max             0.310000"
      ]
     },
     "execution_count": 61,
     "metadata": {},
     "output_type": "execute_result"
    }
   ],
   "source": [
    "VG_pre_2005_EUsales_1.describe()"
   ]
  },
  {
   "cell_type": "markdown",
   "id": "10322cfc",
   "metadata": {},
   "source": [
    "#### Filtering Games After 2005"
   ]
  },
  {
   "cell_type": "code",
   "execution_count": 62,
   "id": "92548632",
   "metadata": {},
   "outputs": [
    {
     "data": {
      "text/plain": [
       "(11263, 10)"
      ]
     },
     "execution_count": 62,
     "metadata": {},
     "output_type": "execute_result"
    }
   ],
   "source": [
    "VG_post_2005.shape"
   ]
  },
  {
   "cell_type": "code",
   "execution_count": 63,
   "id": "8732d911",
   "metadata": {},
   "outputs": [],
   "source": [
    "VG_post_2005.reset_index(drop=True, inplace=True)"
   ]
  },
  {
   "cell_type": "code",
   "execution_count": 64,
   "id": "9a0b75d1",
   "metadata": {},
   "outputs": [],
   "source": [
    "VG_post_2005_EUsales = VG_post_2005[[\"EU_Sales\"]]"
   ]
  },
  {
   "cell_type": "code",
   "execution_count": 65,
   "id": "53038177",
   "metadata": {
    "scrolled": true
   },
   "outputs": [
    {
     "data": {
      "text/html": [
       "<div>\n",
       "<style scoped>\n",
       "    .dataframe tbody tr th:only-of-type {\n",
       "        vertical-align: middle;\n",
       "    }\n",
       "\n",
       "    .dataframe tbody tr th {\n",
       "        vertical-align: top;\n",
       "    }\n",
       "\n",
       "    .dataframe thead th {\n",
       "        text-align: right;\n",
       "    }\n",
       "</style>\n",
       "<table border=\"1\" class=\"dataframe\">\n",
       "  <thead>\n",
       "    <tr style=\"text-align: right;\">\n",
       "      <th></th>\n",
       "      <th>EU Sales Post 2005</th>\n",
       "    </tr>\n",
       "  </thead>\n",
       "  <tbody>\n",
       "    <tr>\n",
       "      <th>count</th>\n",
       "      <td>11263.000000</td>\n",
       "    </tr>\n",
       "    <tr>\n",
       "      <th>mean</th>\n",
       "      <td>0.143489</td>\n",
       "    </tr>\n",
       "    <tr>\n",
       "      <th>std</th>\n",
       "      <td>0.552513</td>\n",
       "    </tr>\n",
       "    <tr>\n",
       "      <th>min</th>\n",
       "      <td>0.000000</td>\n",
       "    </tr>\n",
       "    <tr>\n",
       "      <th>25%</th>\n",
       "      <td>0.000000</td>\n",
       "    </tr>\n",
       "    <tr>\n",
       "      <th>50%</th>\n",
       "      <td>0.020000</td>\n",
       "    </tr>\n",
       "    <tr>\n",
       "      <th>75%</th>\n",
       "      <td>0.100000</td>\n",
       "    </tr>\n",
       "    <tr>\n",
       "      <th>max</th>\n",
       "      <td>28.960000</td>\n",
       "    </tr>\n",
       "  </tbody>\n",
       "</table>\n",
       "</div>"
      ],
      "text/plain": [
       "       EU Sales Post 2005\n",
       "count        11263.000000\n",
       "mean             0.143489\n",
       "std              0.552513\n",
       "min              0.000000\n",
       "25%              0.000000\n",
       "50%              0.020000\n",
       "75%              0.100000\n",
       "max             28.960000"
      ]
     },
     "execution_count": 65,
     "metadata": {},
     "output_type": "execute_result"
    }
   ],
   "source": [
    "VG_post_2005_EUsales_1 = VG_post_2005_EUsales.rename(columns={\"EU_Sales\":\"EU Sales Post 2005\"})\n",
    "VG_post_2005_EUsales_1.describe()"
   ]
  },
  {
   "cell_type": "code",
   "execution_count": 66,
   "id": "f7d83b05",
   "metadata": {},
   "outputs": [
    {
     "name": "stdout",
     "output_type": "stream",
     "text": [
      "New Shape:  (9756, 1)\n"
     ]
    }
   ],
   "source": [
    "# IQR\n",
    "# Calculate the upper and lower limits\n",
    "Q1 = VG_post_2005_EUsales_1[\"EU Sales Post 2005\"].quantile(0.25)\n",
    "Q3 = VG_post_2005_EUsales_1[\"EU Sales Post 2005\"].quantile(0.75)\n",
    "IQR = Q3 - Q1\n",
    "lower = Q1 - 1.5*IQR\n",
    "upper = Q3 + 1.5*IQR\n",
    "\n",
    "# Create arrays of Boolean values indicating the outlier rows\n",
    "upper_array = np.where(VG_post_2005_EUsales_1[\"EU Sales Post 2005\"] >= upper)[0]\n",
    "lower_array = np.where(VG_post_2005_EUsales_1[\"EU Sales Post 2005\"] <= lower)[0]\n",
    "\n",
    "# Removing the outliers\n",
    "VG_post_2005_EUsales_1.drop(index=upper_array, inplace=True)\n",
    "VG_post_2005_EUsales_1.drop(index=lower_array, inplace=True)\n",
    "\n",
    "# Print the new shape of the DataFrame\n",
    "print(\"New Shape: \", VG_post_2005_EUsales_1.shape)"
   ]
  },
  {
   "cell_type": "code",
   "execution_count": 67,
   "id": "986b9113",
   "metadata": {
    "scrolled": true
   },
   "outputs": [
    {
     "data": {
      "text/html": [
       "<div>\n",
       "<style scoped>\n",
       "    .dataframe tbody tr th:only-of-type {\n",
       "        vertical-align: middle;\n",
       "    }\n",
       "\n",
       "    .dataframe tbody tr th {\n",
       "        vertical-align: top;\n",
       "    }\n",
       "\n",
       "    .dataframe thead th {\n",
       "        text-align: right;\n",
       "    }\n",
       "</style>\n",
       "<table border=\"1\" class=\"dataframe\">\n",
       "  <thead>\n",
       "    <tr style=\"text-align: right;\">\n",
       "      <th></th>\n",
       "      <th>EU Sales Post 2005</th>\n",
       "    </tr>\n",
       "  </thead>\n",
       "  <tbody>\n",
       "    <tr>\n",
       "      <th>count</th>\n",
       "      <td>9756.000000</td>\n",
       "    </tr>\n",
       "    <tr>\n",
       "      <th>mean</th>\n",
       "      <td>0.034545</td>\n",
       "    </tr>\n",
       "    <tr>\n",
       "      <th>std</th>\n",
       "      <td>0.055292</td>\n",
       "    </tr>\n",
       "    <tr>\n",
       "      <th>min</th>\n",
       "      <td>0.000000</td>\n",
       "    </tr>\n",
       "    <tr>\n",
       "      <th>25%</th>\n",
       "      <td>0.000000</td>\n",
       "    </tr>\n",
       "    <tr>\n",
       "      <th>50%</th>\n",
       "      <td>0.010000</td>\n",
       "    </tr>\n",
       "    <tr>\n",
       "      <th>75%</th>\n",
       "      <td>0.040000</td>\n",
       "    </tr>\n",
       "    <tr>\n",
       "      <th>max</th>\n",
       "      <td>0.240000</td>\n",
       "    </tr>\n",
       "  </tbody>\n",
       "</table>\n",
       "</div>"
      ],
      "text/plain": [
       "       EU Sales Post 2005\n",
       "count         9756.000000\n",
       "mean             0.034545\n",
       "std              0.055292\n",
       "min              0.000000\n",
       "25%              0.000000\n",
       "50%              0.010000\n",
       "75%              0.040000\n",
       "max              0.240000"
      ]
     },
     "execution_count": 67,
     "metadata": {},
     "output_type": "execute_result"
    }
   ],
   "source": [
    "VG_post_2005_EUsales_1.describe()"
   ]
  },
  {
   "cell_type": "markdown",
   "id": "915706cc",
   "metadata": {},
   "source": [
    "The data was still showing signs of being skewed for both datasets. I could tell this by looking at the difference between the median and mean. Removing oultiers using the inter quartile range definaltley helped but for the purpose of this assignment, I feel that it is representative enough.  "
   ]
  },
  {
   "cell_type": "code",
   "execution_count": 68,
   "id": "477f2356",
   "metadata": {},
   "outputs": [
    {
     "name": "stdout",
     "output_type": "stream",
     "text": [
      "Mean for EU Sales Post 2005: 0.035\n",
      "===================================================================\n",
      "Mean for EU Sales Pre 2005: 0.057\n"
     ]
    }
   ],
   "source": [
    "meanPost=VG_post_2005_EUsales_1[\"EU Sales Post 2005\"].mean()\n",
    "roundedmeanPost=round(meanPost,3)\n",
    "print(\"Mean for EU Sales Post 2005:\", roundedmeanPost)\n",
    "\n",
    "print(\"===================================================================\")\n",
    "\n",
    "meanPre=VG_pre_2005_EUsales_1[\"EU Sales Pre 2005\"].mean()\n",
    "roundedmeanPre=round(meanPre,3)\n",
    "print(\"Mean for EU Sales Pre 2005:\", roundedmeanPre)"
   ]
  },
  {
   "cell_type": "code",
   "execution_count": 69,
   "id": "14969518",
   "metadata": {},
   "outputs": [
    {
     "data": {
      "image/png": "[encoded data removed]",
      "text/plain": [
       "<Figure size 1200x800 with 1 Axes>"
      ]
     },
     "metadata": {},
     "output_type": "display_data"
    }
   ],
   "source": [
    "d1 = VG_pre_2005_EUsales_1[\"EU Sales Pre 2005\"]\n",
    "d2 = VG_post_2005_EUsales_1[\"EU Sales Post 2005\"]\n",
    "\n",
    "salesdata= [d1,d2]\n",
    "\n",
    "fig = plt.figure(figsize =(12, 8))\n",
    "ax = fig.add_subplot(111)\n",
    "\n",
    "SALESboxPlot = ax.boxplot(salesdata,patch_artist = True,\n",
    "                          vert = 0, showmeans=True, meanline=True)\n",
    "\n",
    "ax.set_yticklabels(['Pre 2005', '2005 and After'])\n",
    "\n",
    "plt.title(\"Comparing Mean of EU Sale for Games Pre and Post 2005\", fontsize=15)\n",
    "plt.xlabel(\"Sales in Millions\", size=14)\n",
    "plt.show()"
   ]
  },
  {
   "cell_type": "markdown",
   "id": "79e29eaf",
   "metadata": {},
   "source": [
    "#### Conclusion Q4\n",
    "As you can see from the plots, the mean of the years prior to 2005 is higher than from 2005 and onwards. On the plots, the mean can be seen as the green line while the median can be seen as the orange line. The differnce in means is more then likely due to the difference in sample sizes. "
   ]
  },
  {
   "cell_type": "markdown",
   "id": "2dcfbb6c",
   "metadata": {},
   "source": [
    "## What are the 3 most common “developer” in the dataset?"
   ]
  },
  {
   "cell_type": "markdown",
   "id": "e39c7e22",
   "metadata": {},
   "source": [
    "I opted for a bar chart here as I struggled to find a better way to display this information. Once again, I used the value_counts() method which did all the calculations for me. I created a dataset using this information which could then be used to formulate the table. As discussed previously, the dataset containing developer information was alot smaller due the number of Nan values. I am using that dataset for this table. It is based around a much smaller sample size, but still contains 7378 data entry points so is still quite valuable for gaining insight the most popular game developers."
   ]
  },
  {
   "cell_type": "code",
   "execution_count": 70,
   "id": "4b0a98dc",
   "metadata": {},
   "outputs": [
    {
     "data": {
      "text/html": [
       "<div>\n",
       "<style scoped>\n",
       "    .dataframe tbody tr th:only-of-type {\n",
       "        vertical-align: middle;\n",
       "    }\n",
       "\n",
       "    .dataframe tbody tr th {\n",
       "        vertical-align: top;\n",
       "    }\n",
       "\n",
       "    .dataframe thead th {\n",
       "        text-align: right;\n",
       "    }\n",
       "</style>\n",
       "<table border=\"1\" class=\"dataframe\">\n",
       "  <thead>\n",
       "    <tr style=\"text-align: right;\">\n",
       "      <th></th>\n",
       "      <th>Name</th>\n",
       "      <th>Platform</th>\n",
       "      <th>Year_of_Release</th>\n",
       "      <th>Genre</th>\n",
       "      <th>Publisher</th>\n",
       "      <th>NA_Sales</th>\n",
       "      <th>EU_Sales</th>\n",
       "      <th>JP_Sales</th>\n",
       "      <th>Other_Sales</th>\n",
       "      <th>Global_Sales</th>\n",
       "      <th>User_Score</th>\n",
       "      <th>Developer</th>\n",
       "      <th>Rating</th>\n",
       "    </tr>\n",
       "  </thead>\n",
       "  <tbody>\n",
       "    <tr>\n",
       "      <th>0</th>\n",
       "      <td>Wii Sports</td>\n",
       "      <td>Wii</td>\n",
       "      <td>2006.0</td>\n",
       "      <td>Sports</td>\n",
       "      <td>Nintendo</td>\n",
       "      <td>41.36</td>\n",
       "      <td>28.96</td>\n",
       "      <td>3.77</td>\n",
       "      <td>8.45</td>\n",
       "      <td>82.53</td>\n",
       "      <td>8.0</td>\n",
       "      <td>Nintendo</td>\n",
       "      <td>E</td>\n",
       "    </tr>\n",
       "    <tr>\n",
       "      <th>1</th>\n",
       "      <td>Mario Kart Wii</td>\n",
       "      <td>Wii</td>\n",
       "      <td>2008.0</td>\n",
       "      <td>Racing</td>\n",
       "      <td>Nintendo</td>\n",
       "      <td>15.68</td>\n",
       "      <td>12.76</td>\n",
       "      <td>3.79</td>\n",
       "      <td>3.29</td>\n",
       "      <td>35.52</td>\n",
       "      <td>8.3</td>\n",
       "      <td>Nintendo</td>\n",
       "      <td>E</td>\n",
       "    </tr>\n",
       "    <tr>\n",
       "      <th>2</th>\n",
       "      <td>Wii Sports Resort</td>\n",
       "      <td>Wii</td>\n",
       "      <td>2009.0</td>\n",
       "      <td>Sports</td>\n",
       "      <td>Nintendo</td>\n",
       "      <td>15.61</td>\n",
       "      <td>10.93</td>\n",
       "      <td>3.28</td>\n",
       "      <td>2.95</td>\n",
       "      <td>32.77</td>\n",
       "      <td>8.0</td>\n",
       "      <td>Nintendo</td>\n",
       "      <td>E</td>\n",
       "    </tr>\n",
       "    <tr>\n",
       "      <th>3</th>\n",
       "      <td>New Super Mario Bros.</td>\n",
       "      <td>DS</td>\n",
       "      <td>2006.0</td>\n",
       "      <td>Platform</td>\n",
       "      <td>Nintendo</td>\n",
       "      <td>11.28</td>\n",
       "      <td>9.14</td>\n",
       "      <td>6.50</td>\n",
       "      <td>2.88</td>\n",
       "      <td>29.80</td>\n",
       "      <td>8.5</td>\n",
       "      <td>Nintendo</td>\n",
       "      <td>E</td>\n",
       "    </tr>\n",
       "    <tr>\n",
       "      <th>4</th>\n",
       "      <td>Wii Play</td>\n",
       "      <td>Wii</td>\n",
       "      <td>2006.0</td>\n",
       "      <td>Misc</td>\n",
       "      <td>Nintendo</td>\n",
       "      <td>13.96</td>\n",
       "      <td>9.18</td>\n",
       "      <td>2.93</td>\n",
       "      <td>2.84</td>\n",
       "      <td>28.92</td>\n",
       "      <td>6.6</td>\n",
       "      <td>Nintendo</td>\n",
       "      <td>E</td>\n",
       "    </tr>\n",
       "  </tbody>\n",
       "</table>\n",
       "</div>"
      ],
      "text/plain": [
       "                    Name Platform  Year_of_Release     Genre Publisher  \\\n",
       "0             Wii Sports      Wii           2006.0    Sports  Nintendo   \n",
       "1         Mario Kart Wii      Wii           2008.0    Racing  Nintendo   \n",
       "2      Wii Sports Resort      Wii           2009.0    Sports  Nintendo   \n",
       "3  New Super Mario Bros.       DS           2006.0  Platform  Nintendo   \n",
       "4               Wii Play      Wii           2006.0      Misc  Nintendo   \n",
       "\n",
       "   NA_Sales  EU_Sales  JP_Sales  Other_Sales  Global_Sales  User_Score  \\\n",
       "0     41.36     28.96      3.77         8.45         82.53         8.0   \n",
       "1     15.68     12.76      3.79         3.29         35.52         8.3   \n",
       "2     15.61     10.93      3.28         2.95         32.77         8.0   \n",
       "3     11.28      9.14      6.50         2.88         29.80         8.5   \n",
       "4     13.96      9.18      2.93         2.84         28.92         6.6   \n",
       "\n",
       "  Developer Rating  \n",
       "0  Nintendo      E  \n",
       "1  Nintendo      E  \n",
       "2  Nintendo      E  \n",
       "3  Nintendo      E  \n",
       "4  Nintendo      E  "
      ]
     },
     "execution_count": 70,
     "metadata": {},
     "output_type": "execute_result"
    }
   ],
   "source": [
    "VG_data_2.head()"
   ]
  },
  {
   "cell_type": "code",
   "execution_count": 71,
   "id": "bb909f2a",
   "metadata": {},
   "outputs": [],
   "source": [
    "DeveloperCounts = VG_data_2[\"Developer\"].value_counts()"
   ]
  },
  {
   "cell_type": "code",
   "execution_count": 72,
   "id": "2f2a9215",
   "metadata": {},
   "outputs": [],
   "source": [
    "developCounts=pd.DataFrame(DeveloperCounts)"
   ]
  },
  {
   "cell_type": "code",
   "execution_count": 73,
   "id": "83e0ec5a",
   "metadata": {},
   "outputs": [
    {
     "data": {
      "text/html": [
       "<div>\n",
       "<style scoped>\n",
       "    .dataframe tbody tr th:only-of-type {\n",
       "        vertical-align: middle;\n",
       "    }\n",
       "\n",
       "    .dataframe tbody tr th {\n",
       "        vertical-align: top;\n",
       "    }\n",
       "\n",
       "    .dataframe thead th {\n",
       "        text-align: right;\n",
       "    }\n",
       "</style>\n",
       "<table border=\"1\" class=\"dataframe\">\n",
       "  <thead>\n",
       "    <tr style=\"text-align: right;\">\n",
       "      <th></th>\n",
       "      <th>count</th>\n",
       "    </tr>\n",
       "    <tr>\n",
       "      <th>Developer</th>\n",
       "      <th></th>\n",
       "    </tr>\n",
       "  </thead>\n",
       "  <tbody>\n",
       "    <tr>\n",
       "      <th>EA Sports</th>\n",
       "      <td>160</td>\n",
       "    </tr>\n",
       "    <tr>\n",
       "      <th>EA Canada</th>\n",
       "      <td>156</td>\n",
       "    </tr>\n",
       "    <tr>\n",
       "      <th>Capcom</th>\n",
       "      <td>130</td>\n",
       "    </tr>\n",
       "    <tr>\n",
       "      <th>Ubisoft</th>\n",
       "      <td>123</td>\n",
       "    </tr>\n",
       "    <tr>\n",
       "      <th>Konami</th>\n",
       "      <td>106</td>\n",
       "    </tr>\n",
       "  </tbody>\n",
       "</table>\n",
       "</div>"
      ],
      "text/plain": [
       "           count\n",
       "Developer       \n",
       "EA Sports    160\n",
       "EA Canada    156\n",
       "Capcom       130\n",
       "Ubisoft      123\n",
       "Konami       106"
      ]
     },
     "execution_count": 73,
     "metadata": {},
     "output_type": "execute_result"
    }
   ],
   "source": [
    "developCounts.head()"
   ]
  },
  {
   "cell_type": "code",
   "execution_count": 74,
   "id": "bb2de1ac",
   "metadata": {},
   "outputs": [],
   "source": [
    "Top3vals = developCounts.head(3)"
   ]
  },
  {
   "cell_type": "code",
   "execution_count": 75,
   "id": "bbf113f4",
   "metadata": {
    "scrolled": true
   },
   "outputs": [],
   "source": [
    "Top3vals1=pd.DataFrame(Top3vals)\n",
    "Top3vals1.reset_index(inplace=True)"
   ]
  },
  {
   "cell_type": "code",
   "execution_count": 76,
   "id": "5d1c9f21",
   "metadata": {},
   "outputs": [
    {
     "data": {
      "text/html": [
       "<div>\n",
       "<style scoped>\n",
       "    .dataframe tbody tr th:only-of-type {\n",
       "        vertical-align: middle;\n",
       "    }\n",
       "\n",
       "    .dataframe tbody tr th {\n",
       "        vertical-align: top;\n",
       "    }\n",
       "\n",
       "    .dataframe thead th {\n",
       "        text-align: right;\n",
       "    }\n",
       "</style>\n",
       "<table border=\"1\" class=\"dataframe\">\n",
       "  <thead>\n",
       "    <tr style=\"text-align: right;\">\n",
       "      <th></th>\n",
       "      <th>Developer</th>\n",
       "      <th>count</th>\n",
       "    </tr>\n",
       "  </thead>\n",
       "  <tbody>\n",
       "    <tr>\n",
       "      <th>0</th>\n",
       "      <td>EA Sports</td>\n",
       "      <td>160</td>\n",
       "    </tr>\n",
       "    <tr>\n",
       "      <th>1</th>\n",
       "      <td>EA Canada</td>\n",
       "      <td>156</td>\n",
       "    </tr>\n",
       "    <tr>\n",
       "      <th>2</th>\n",
       "      <td>Capcom</td>\n",
       "      <td>130</td>\n",
       "    </tr>\n",
       "  </tbody>\n",
       "</table>\n",
       "</div>"
      ],
      "text/plain": [
       "   Developer  count\n",
       "0  EA Sports    160\n",
       "1  EA Canada    156\n",
       "2     Capcom    130"
      ]
     },
     "execution_count": 76,
     "metadata": {},
     "output_type": "execute_result"
    }
   ],
   "source": [
    "Top3vals1"
   ]
  },
  {
   "cell_type": "code",
   "execution_count": 77,
   "id": "a781d237",
   "metadata": {},
   "outputs": [
    {
     "data": {
      "text/plain": [
       "array(['EA Sports', 'EA Canada', 'Capcom'], dtype=object)"
      ]
     },
     "execution_count": 77,
     "metadata": {},
     "output_type": "execute_result"
    }
   ],
   "source": [
    "Top3vals1[\"Developer\"].unique()"
   ]
  },
  {
   "cell_type": "code",
   "execution_count": 78,
   "id": "f4d45ebe",
   "metadata": {},
   "outputs": [
    {
     "data": {
      "image/png": "[encoded data removed]",
      "text/plain": [
       "<Figure size 1200x800 with 1 Axes>"
      ]
     },
     "metadata": {},
     "output_type": "display_data"
    }
   ],
   "source": [
    "plt.style.use(\"dark_background\")\n",
    "plt.figure(figsize = (12,8))\n",
    "sns.barplot(x = \"count\", y = \"Developer\", data = Top3vals1)\n",
    "plt.ylabel(\"Developers\", fontsize=15)\n",
    "plt.xlabel(\"Number of Instances\", fontsize=15)\n",
    "plt.title(\"Top Three Developers\", fontsize=20)\n",
    "plt.show()"
   ]
  },
  {
   "cell_type": "markdown",
   "id": "a6b19042",
   "metadata": {},
   "source": [
    "#### Conclusion Q5\n",
    "\n",
    "Appearing 201 times, Ubisoft is the most common developer in the dataset. Ea Sports is the second most common with 168 instances and EA Canada is third most common with 163 instances. "
   ]
  },
  {
   "cell_type": "markdown",
   "id": "4d5092a4",
   "metadata": {},
   "source": [
    "## Compare the global sales in relation to the user score for PS2 platform?"
   ]
  },
  {
   "cell_type": "markdown",
   "id": "0fd96391",
   "metadata": {},
   "source": [
    "For my question, I decided to compare global sales to how the public score the game for PS2. I think this is a valuable metric to see how each platform is comparing from users to sales revenue. This could be implemented across all the platoforms but for the purpose of the assignment I have only rolled it out on PS2. I am using a scatter plot to display this information as it plots numerical data on an x and y axis and will show any relationship between the variables. \n",
    "\n",
    "To begin, I filterd out all the entries relating to PS2. Then I made a separate dataset containing the global sales and user scores for the PS2 entries. The user score feature showed dtype of object with was incorrect and I spent alot of time trying to get the bottom of this. I concluded that they were all floating values so I used the astype() function to change it to its correct dtype. The global sales feature was heavily skewed here so I removed outliers using the inter quartile range as reference. This cleaned the data up enough to plot. "
   ]
  },
  {
   "cell_type": "code",
   "execution_count": 79,
   "id": "9523c93c",
   "metadata": {},
   "outputs": [],
   "source": [
    "platfrom = \"PS2\""
   ]
  },
  {
   "cell_type": "code",
   "execution_count": 80,
   "id": "9b8296aa",
   "metadata": {},
   "outputs": [],
   "source": [
    "VG_PS2 = VG_data_2[(VG_data_2[\"Platform\"] == platfrom)];"
   ]
  },
  {
   "cell_type": "code",
   "execution_count": 81,
   "id": "7995fa88",
   "metadata": {},
   "outputs": [],
   "source": [
    "VG_PS2_user_df = VG_PS2[[\"Global_Sales\",\"User_Score\"]]"
   ]
  },
  {
   "cell_type": "code",
   "execution_count": 82,
   "id": "dfbe7a04",
   "metadata": {
    "scrolled": true
   },
   "outputs": [
    {
     "data": {
      "text/html": [
       "<div>\n",
       "<style scoped>\n",
       "    .dataframe tbody tr th:only-of-type {\n",
       "        vertical-align: middle;\n",
       "    }\n",
       "\n",
       "    .dataframe tbody tr th {\n",
       "        vertical-align: top;\n",
       "    }\n",
       "\n",
       "    .dataframe thead th {\n",
       "        text-align: right;\n",
       "    }\n",
       "</style>\n",
       "<table border=\"1\" class=\"dataframe\">\n",
       "  <thead>\n",
       "    <tr style=\"text-align: right;\">\n",
       "      <th></th>\n",
       "      <th>Global_Sales</th>\n",
       "      <th>User_Score</th>\n",
       "    </tr>\n",
       "  </thead>\n",
       "  <tbody>\n",
       "    <tr>\n",
       "      <th>11</th>\n",
       "      <td>20.81</td>\n",
       "      <td>9.0</td>\n",
       "    </tr>\n",
       "    <tr>\n",
       "      <th>14</th>\n",
       "      <td>16.15</td>\n",
       "      <td>8.7</td>\n",
       "    </tr>\n",
       "    <tr>\n",
       "      <th>16</th>\n",
       "      <td>14.98</td>\n",
       "      <td>8.4</td>\n",
       "    </tr>\n",
       "    <tr>\n",
       "      <th>23</th>\n",
       "      <td>13.10</td>\n",
       "      <td>8.5</td>\n",
       "    </tr>\n",
       "    <tr>\n",
       "      <th>30</th>\n",
       "      <td>11.66</td>\n",
       "      <td>8.5</td>\n",
       "    </tr>\n",
       "  </tbody>\n",
       "</table>\n",
       "</div>"
      ],
      "text/plain": [
       "    Global_Sales  User_Score\n",
       "11         20.81         9.0\n",
       "14         16.15         8.7\n",
       "16         14.98         8.4\n",
       "23         13.10         8.5\n",
       "30         11.66         8.5"
      ]
     },
     "execution_count": 82,
     "metadata": {},
     "output_type": "execute_result"
    }
   ],
   "source": [
    "VG_PS2_user_df.head()"
   ]
  },
  {
   "cell_type": "code",
   "execution_count": 83,
   "id": "b952b574",
   "metadata": {},
   "outputs": [],
   "source": [
    "VG_PS2_user_df.reset_index(drop=True,inplace=True)"
   ]
  },
  {
   "cell_type": "code",
   "execution_count": 84,
   "id": "71a1730f",
   "metadata": {},
   "outputs": [
    {
     "data": {
      "text/html": [
       "<div>\n",
       "<style scoped>\n",
       "    .dataframe tbody tr th:only-of-type {\n",
       "        vertical-align: middle;\n",
       "    }\n",
       "\n",
       "    .dataframe tbody tr th {\n",
       "        vertical-align: top;\n",
       "    }\n",
       "\n",
       "    .dataframe thead th {\n",
       "        text-align: right;\n",
       "    }\n",
       "</style>\n",
       "<table border=\"1\" class=\"dataframe\">\n",
       "  <thead>\n",
       "    <tr style=\"text-align: right;\">\n",
       "      <th></th>\n",
       "      <th>Global_Sales</th>\n",
       "      <th>User_Score</th>\n",
       "    </tr>\n",
       "  </thead>\n",
       "  <tbody>\n",
       "    <tr>\n",
       "      <th>count</th>\n",
       "      <td>1220.000000</td>\n",
       "      <td>1220.000000</td>\n",
       "    </tr>\n",
       "    <tr>\n",
       "      <th>mean</th>\n",
       "      <td>0.805672</td>\n",
       "      <td>7.625328</td>\n",
       "    </tr>\n",
       "    <tr>\n",
       "      <th>std</th>\n",
       "      <td>1.399143</td>\n",
       "      <td>1.309017</td>\n",
       "    </tr>\n",
       "    <tr>\n",
       "      <th>min</th>\n",
       "      <td>0.010000</td>\n",
       "      <td>1.700000</td>\n",
       "    </tr>\n",
       "    <tr>\n",
       "      <th>25%</th>\n",
       "      <td>0.160000</td>\n",
       "      <td>7.000000</td>\n",
       "    </tr>\n",
       "    <tr>\n",
       "      <th>50%</th>\n",
       "      <td>0.380000</td>\n",
       "      <td>8.000000</td>\n",
       "    </tr>\n",
       "    <tr>\n",
       "      <th>75%</th>\n",
       "      <td>0.862500</td>\n",
       "      <td>8.600000</td>\n",
       "    </tr>\n",
       "    <tr>\n",
       "      <th>max</th>\n",
       "      <td>20.810000</td>\n",
       "      <td>9.500000</td>\n",
       "    </tr>\n",
       "  </tbody>\n",
       "</table>\n",
       "</div>"
      ],
      "text/plain": [
       "       Global_Sales   User_Score\n",
       "count   1220.000000  1220.000000\n",
       "mean       0.805672     7.625328\n",
       "std        1.399143     1.309017\n",
       "min        0.010000     1.700000\n",
       "25%        0.160000     7.000000\n",
       "50%        0.380000     8.000000\n",
       "75%        0.862500     8.600000\n",
       "max       20.810000     9.500000"
      ]
     },
     "execution_count": 84,
     "metadata": {},
     "output_type": "execute_result"
    }
   ],
   "source": [
    "VG_PS2_user_df.describe()"
   ]
  },
  {
   "cell_type": "code",
   "execution_count": 85,
   "id": "b75c9cdb",
   "metadata": {},
   "outputs": [
    {
     "name": "stdout",
     "output_type": "stream",
     "text": [
      "<class 'pandas.core.frame.DataFrame'>\n",
      "RangeIndex: 1220 entries, 0 to 1219\n",
      "Data columns (total 2 columns):\n",
      " #   Column        Non-Null Count  Dtype  \n",
      "---  ------        --------------  -----  \n",
      " 0   Global_Sales  1220 non-null   float64\n",
      " 1   User_Score    1220 non-null   float64\n",
      "dtypes: float64(2)\n",
      "memory usage: 19.2 KB\n"
     ]
    }
   ],
   "source": [
    "VG_PS2_user_df.info()"
   ]
  },
  {
   "cell_type": "code",
   "execution_count": 86,
   "id": "32df1c61",
   "metadata": {
    "scrolled": true
   },
   "outputs": [],
   "source": [
    "#VG_PS2_user_df[\"User_Score\"]=VG_PS2_user_df[\"User_Score\"].astype(float)"
   ]
  },
  {
   "cell_type": "code",
   "execution_count": 87,
   "id": "dfd08f59",
   "metadata": {},
   "outputs": [
    {
     "data": {
      "text/plain": [
       "User_Score\n",
       "8.5    68\n",
       "8.6    61\n",
       "8.3    61\n",
       "8.9    59\n",
       "8.4    58\n",
       "       ..\n",
       "2.6     1\n",
       "2.3     1\n",
       "3.3     1\n",
       "3.7     1\n",
       "2.9     1\n",
       "Name: count, Length: 70, dtype: int64"
      ]
     },
     "execution_count": 87,
     "metadata": {},
     "output_type": "execute_result"
    }
   ],
   "source": [
    "VG_PS2_user_df[\"User_Score\"].value_counts()"
   ]
  },
  {
   "cell_type": "code",
   "execution_count": 88,
   "id": "a798540e",
   "metadata": {
    "scrolled": true
   },
   "outputs": [
    {
     "data": {
      "text/html": [
       "<div>\n",
       "<style scoped>\n",
       "    .dataframe tbody tr th:only-of-type {\n",
       "        vertical-align: middle;\n",
       "    }\n",
       "\n",
       "    .dataframe tbody tr th {\n",
       "        vertical-align: top;\n",
       "    }\n",
       "\n",
       "    .dataframe thead th {\n",
       "        text-align: right;\n",
       "    }\n",
       "</style>\n",
       "<table border=\"1\" class=\"dataframe\">\n",
       "  <thead>\n",
       "    <tr style=\"text-align: right;\">\n",
       "      <th></th>\n",
       "      <th>Global_Sales</th>\n",
       "      <th>User_Score</th>\n",
       "    </tr>\n",
       "  </thead>\n",
       "  <tbody>\n",
       "    <tr>\n",
       "      <th>0</th>\n",
       "      <td>20.81</td>\n",
       "      <td>9.0</td>\n",
       "    </tr>\n",
       "    <tr>\n",
       "      <th>1</th>\n",
       "      <td>16.15</td>\n",
       "      <td>8.7</td>\n",
       "    </tr>\n",
       "    <tr>\n",
       "      <th>2</th>\n",
       "      <td>14.98</td>\n",
       "      <td>8.4</td>\n",
       "    </tr>\n",
       "    <tr>\n",
       "      <th>3</th>\n",
       "      <td>13.10</td>\n",
       "      <td>8.5</td>\n",
       "    </tr>\n",
       "    <tr>\n",
       "      <th>4</th>\n",
       "      <td>11.66</td>\n",
       "      <td>8.5</td>\n",
       "    </tr>\n",
       "  </tbody>\n",
       "</table>\n",
       "</div>"
      ],
      "text/plain": [
       "   Global_Sales  User_Score\n",
       "0         20.81         9.0\n",
       "1         16.15         8.7\n",
       "2         14.98         8.4\n",
       "3         13.10         8.5\n",
       "4         11.66         8.5"
      ]
     },
     "execution_count": 88,
     "metadata": {},
     "output_type": "execute_result"
    }
   ],
   "source": [
    "VG_PS2_user_df.head()"
   ]
  },
  {
   "cell_type": "code",
   "execution_count": 89,
   "id": "32d2ecc3",
   "metadata": {},
   "outputs": [
    {
     "name": "stdout",
     "output_type": "stream",
     "text": [
      "New Shape:  (1098, 2)\n"
     ]
    },
    {
     "name": "stderr",
     "output_type": "stream",
     "text": [
      "/var/folders/zj/v6srnlys1bg34vwc_mjk_x_80000gn/T/ipykernel_10389/1710547148.py:14: SettingWithCopyWarning: \n",
      "A value is trying to be set on a copy of a slice from a DataFrame\n",
      "\n",
      "See the caveats in the documentation: https://pandas.pydata.org/pandas-docs/stable/user_guide/indexing.html#returning-a-view-versus-a-copy\n",
      "  VG_PS2_user_df.drop(index=upper_array, inplace=True)\n",
      "/var/folders/zj/v6srnlys1bg34vwc_mjk_x_80000gn/T/ipykernel_10389/1710547148.py:15: SettingWithCopyWarning: \n",
      "A value is trying to be set on a copy of a slice from a DataFrame\n",
      "\n",
      "See the caveats in the documentation: https://pandas.pydata.org/pandas-docs/stable/user_guide/indexing.html#returning-a-view-versus-a-copy\n",
      "  VG_PS2_user_df.drop(index=lower_array, inplace=True)\n"
     ]
    }
   ],
   "source": [
    "# IQR\n",
    "# Calculate the upper and lower limits\n",
    "Q1 = VG_PS2_user_df[\"Global_Sales\"].quantile(0.25)\n",
    "Q3 = VG_PS2_user_df[\"Global_Sales\"].quantile(0.75)\n",
    "IQR = Q3 - Q1\n",
    "lower = Q1 - 1.5*IQR\n",
    "upper = Q3 + 1.5*IQR\n",
    "\n",
    "# Create arrays of Boolean values indicating the outlier rows\n",
    "upper_array = np.where(VG_PS2_user_df[\"Global_Sales\"] >= upper)[0]\n",
    "lower_array = np.where(VG_PS2_user_df[\"Global_Sales\"] <= lower)[0]\n",
    "\n",
    "# Removing the outliers\n",
    "VG_PS2_user_df.drop(index=upper_array, inplace=True)\n",
    "VG_PS2_user_df.drop(index=lower_array, inplace=True)\n",
    "\n",
    "# Print the new shape of the DataFrame\n",
    "print(\"New Shape: \", VG_PS2_user_df.shape)"
   ]
  },
  {
   "cell_type": "code",
   "execution_count": 90,
   "id": "a4989cf7",
   "metadata": {},
   "outputs": [
    {
     "data": {
      "text/html": [
       "<div>\n",
       "<style scoped>\n",
       "    .dataframe tbody tr th:only-of-type {\n",
       "        vertical-align: middle;\n",
       "    }\n",
       "\n",
       "    .dataframe tbody tr th {\n",
       "        vertical-align: top;\n",
       "    }\n",
       "\n",
       "    .dataframe thead th {\n",
       "        text-align: right;\n",
       "    }\n",
       "</style>\n",
       "<table border=\"1\" class=\"dataframe\">\n",
       "  <thead>\n",
       "    <tr style=\"text-align: right;\">\n",
       "      <th></th>\n",
       "      <th>Global_Sales</th>\n",
       "      <th>User_Score</th>\n",
       "    </tr>\n",
       "  </thead>\n",
       "  <tbody>\n",
       "    <tr>\n",
       "      <th>count</th>\n",
       "      <td>1098.000000</td>\n",
       "      <td>1098.000000</td>\n",
       "    </tr>\n",
       "    <tr>\n",
       "      <th>mean</th>\n",
       "      <td>0.467896</td>\n",
       "      <td>7.556922</td>\n",
       "    </tr>\n",
       "    <tr>\n",
       "      <th>std</th>\n",
       "      <td>0.439146</td>\n",
       "      <td>1.337555</td>\n",
       "    </tr>\n",
       "    <tr>\n",
       "      <th>min</th>\n",
       "      <td>0.010000</td>\n",
       "      <td>1.700000</td>\n",
       "    </tr>\n",
       "    <tr>\n",
       "      <th>25%</th>\n",
       "      <td>0.140000</td>\n",
       "      <td>6.900000</td>\n",
       "    </tr>\n",
       "    <tr>\n",
       "      <th>50%</th>\n",
       "      <td>0.330000</td>\n",
       "      <td>8.000000</td>\n",
       "    </tr>\n",
       "    <tr>\n",
       "      <th>75%</th>\n",
       "      <td>0.600000</td>\n",
       "      <td>8.500000</td>\n",
       "    </tr>\n",
       "    <tr>\n",
       "      <th>max</th>\n",
       "      <td>1.880000</td>\n",
       "      <td>9.500000</td>\n",
       "    </tr>\n",
       "  </tbody>\n",
       "</table>\n",
       "</div>"
      ],
      "text/plain": [
       "       Global_Sales   User_Score\n",
       "count   1098.000000  1098.000000\n",
       "mean       0.467896     7.556922\n",
       "std        0.439146     1.337555\n",
       "min        0.010000     1.700000\n",
       "25%        0.140000     6.900000\n",
       "50%        0.330000     8.000000\n",
       "75%        0.600000     8.500000\n",
       "max        1.880000     9.500000"
      ]
     },
     "execution_count": 90,
     "metadata": {},
     "output_type": "execute_result"
    }
   ],
   "source": [
    "VG_PS2_user_df.describe()"
   ]
  },
  {
   "cell_type": "code",
   "execution_count": 91,
   "id": "636abe7f",
   "metadata": {},
   "outputs": [
    {
     "data": {
      "image/png": "[encoded data removed]",
      "text/plain": [
       "<Figure size 1200x800 with 1 Axes>"
      ]
     },
     "metadata": {},
     "output_type": "display_data"
    }
   ],
   "source": [
    "plt.style.use(\"dark_background\")\n",
    "plt.figure(figsize = (12,8))\n",
    "sns.scatterplot(x = \"User_Score\", y = \"Global_Sales\", data = VG_PS2_user_df)\n",
    "plt.ylabel(\"Global Sales in Millions\", fontsize=15)\n",
    "plt.xlabel(\"User Score\", fontsize=15)\n",
    "plt.title(\"Global Sales vs User Score for PS2\", fontsize= 30)\n",
    "plt.show()"
   ]
  },
  {
   "cell_type": "markdown",
   "id": "f13561d1",
   "metadata": {},
   "source": [
    "#### Conclusion Q6\n",
    "\n",
    "From examining the scaterplot I can that there is alot of useful information. The biggest concentration of data is the bottom right quadrant of the plot. I can see the majority of the games with a high user score have a middelen to low global sales reveune. While there is still plenty of PS2 games that have a high user score and high sales revenue I can conclude that a high user score, while is an important metric to achieving revenue, doesn't always lead to the best sales revenue. "
   ]
  },
  {
   "cell_type": "code",
   "execution_count": null,
   "id": "eb3f4740",
   "metadata": {},
   "outputs": [],
   "source": []
  }
 ],
 "metadata": {
  "kernelspec": {
   "display_name": "Python 3 (ipykernel)",
   "language": "python",
   "name": "python3"
  },
  "language_info": {
   "codemirror_mode": {
    "name": "ipython",
    "version": 3
   },
   "file_extension": ".py",
   "mimetype": "text/x-python",
   "name": "python",
   "nbconvert_exporter": "python",
   "pygments_lexer": "ipython3",
   "version": "3.11.7"
  }
 },
 "nbformat": 4,
 "nbformat_minor": 5
}
